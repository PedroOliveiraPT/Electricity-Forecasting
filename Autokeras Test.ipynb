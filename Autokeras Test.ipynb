{
 "cells": [
  {
   "cell_type": "code",
   "execution_count": 1,
   "metadata": {},
   "outputs": [],
   "source": [
    "import pandas as pd\n",
    "import tensorflow as tf\n",
    "\n",
    "import autokeras as ak\n",
    "\n",
    "from settings import INPUT_FILE, CORR_GROUP, OUTPUT_FILE\n",
    "import numpy as np\n",
    "from sklearn.preprocessing import MinMaxScaler\n",
    "import logging\n",
    "\n",
    "logging.basicConfig(format='%(asctime)s %(message)s', filename='autokeras.log', level=logging.DEBUG)\n",
    "logging.info('Started training')\n",
    "\n"
   ]
  },
  {
   "cell_type": "code",
   "execution_count": 2,
   "metadata": {},
   "outputs": [],
   "source": [
    "def unique_cols(df):\n",
    "    a = df.to_numpy() # df.values (pandas<0.24)\n",
    "    return (a[0] == a).all(0)\n",
    "\n",
    "def create_supervised_dataset(df, target, feats, n_in=1, n_out=1):\n",
    "    cols, names = list(), list()\n",
    "    n_vars = len(feats)\n",
    "    # input sequence (t-n, ... t-1)\n",
    "    for i in range(n_in, 0, -1):\n",
    "        cols.append(df[feats].shift(i))\n",
    "        names += [('var%d(t-%d)' % (j+1, i)) for j in range(n_vars)]\n",
    "    # forecast sequence (t, t+1, ... t+n)\n",
    "    for i in range(0, n_out):\n",
    "        cols.append(df[target].shift(-i))\n",
    "        if i == 0:\n",
    "            names += [('var%d(t)' % (j+1)) for j in range(1)]\n",
    "        else:\n",
    "            names += [('var%d(t+%d)' % (j+1, i)) for j in range(1)]\n",
    "    # put it all together\n",
    "    agg = pd.concat(cols, axis=1)\n",
    "    agg.columns = names\n",
    "    agg.dropna(inplace=True)\n",
    "    return agg.values"
   ]
  },
  {
   "cell_type": "code",
   "execution_count": 3,
   "metadata": {},
   "outputs": [],
   "source": [
    "df = pd.read_csv(INPUT_FILE, index_col='ts')\n",
    "#df = df.drop('Unnamed: 0', 1)\n",
    "df.index = pd.to_datetime(df.index)\n",
    "\n",
    "df_2 = df.loc[:,np.invert(unique_cols(df))]\n",
    "# Average window\n",
    "# df_2 = df.groupby(np.arange(len(df))//60).mean()\n",
    "\n",
    "scaler = MinMaxScaler()\n",
    "d = scaler.fit_transform(df_2)\n",
    "scaled_df = pd.DataFrame(d, columns=df_2.columns, index=df_2.index)\n",
    "results = []\n",
    "train_split = int(0.7*scaled_df.shape[0])\n",
    "val_split = int(0.9*scaled_df.shape[0])\n",
    "predict_from = 1\n",
    "predict_until = 1\n",
    "lookback = 15"
   ]
  },
  {
   "cell_type": "code",
   "execution_count": 4,
   "metadata": {},
   "outputs": [
    {
     "name": "stdout",
     "output_type": "stream",
     "text": [
      "Trial 3 Complete [00h 01m 53s]\n",
      "mean_squared_error: 0.014870687387883663\n",
      "\n",
      "Best mean_squared_error So Far: 0.010276983492076397\n",
      "Total elapsed time: 00h 06m 03s\n",
      "INFO:tensorflow:Oracle triggered exit\n",
      "Epoch 1/10\n",
      "433/433 [==============================] - 11s 21ms/step - loss: 0.0566 - mean_squared_error: 0.0566 - val_loss: 0.1838 - val_mean_squared_error: 0.1838\n",
      "Epoch 2/10\n",
      "433/433 [==============================] - 8s 19ms/step - loss: 0.0236 - mean_squared_error: 0.0236 - val_loss: 0.1354 - val_mean_squared_error: 0.1354\n",
      "Epoch 3/10\n",
      "433/433 [==============================] - 8s 19ms/step - loss: 0.0237 - mean_squared_error: 0.0237 - val_loss: 0.0864 - val_mean_squared_error: 0.0864\n",
      "Epoch 4/10\n",
      "433/433 [==============================] - 8s 19ms/step - loss: 0.0217 - mean_squared_error: 0.0217 - val_loss: 0.0481 - val_mean_squared_error: 0.0481\n",
      "Epoch 5/10\n",
      "433/433 [==============================] - 8s 19ms/step - loss: 0.0186 - mean_squared_error: 0.0186 - val_loss: 0.0384 - val_mean_squared_error: 0.0384\n",
      "Epoch 6/10\n",
      "433/433 [==============================] - 8s 19ms/step - loss: 0.0160 - mean_squared_error: 0.0160 - val_loss: 0.0272 - val_mean_squared_error: 0.0272\n",
      "Epoch 7/10\n",
      "433/433 [==============================] - 8s 19ms/step - loss: 0.0139 - mean_squared_error: 0.0139 - val_loss: 0.0200 - val_mean_squared_error: 0.0200\n",
      "Epoch 8/10\n",
      "433/433 [==============================] - 8s 19ms/step - loss: 0.0125 - mean_squared_error: 0.0125 - val_loss: 0.0172 - val_mean_squared_error: 0.0172\n",
      "Epoch 9/10\n",
      "433/433 [==============================] - 8s 19ms/step - loss: 0.0113 - mean_squared_error: 0.0113 - val_loss: 0.0168 - val_mean_squared_error: 0.0168\n",
      "Epoch 10/10\n",
      "433/433 [==============================] - 8s 19ms/step - loss: 0.0105 - mean_squared_error: 0.0105 - val_loss: 0.0162 - val_mean_squared_error: 0.0162\n",
      "INFO:tensorflow:Assets written to: ./autokeras_ml/P_SUM_forecaster/best_model/assets\n",
      "Model: \"model\"\n",
      "_________________________________________________________________\n",
      " Layer (type)                Output Shape              Param #   \n",
      "=================================================================\n",
      " input_1 (InputLayer)        [(None, 15, 285)]         0         \n",
      "                                                                 \n",
      " lstm (LSTM)                 (None, 15, 285)           650940    \n",
      "                                                                 \n",
      " lstm_1 (LSTM)               (None, 285)               650940    \n",
      "                                                                 \n",
      " regression_head_1 (Dense)   (None, 1)                 286       \n",
      "                                                                 \n",
      "=================================================================\n",
      "Total params: 1,302,166\n",
      "Trainable params: 1,302,166\n",
      "Non-trainable params: 0\n",
      "_________________________________________________________________\n",
      "None\n"
     ]
    },
    {
     "ename": "ValueError",
     "evalue": "in user code:\n\n    File \"/home/poliveira/Electricity-Forecasting/lib/python3.8/site-packages/keras/engine/training.py\", line 1557, in test_function  *\n        return step_function(self, iterator)\n    File \"/home/poliveira/Electricity-Forecasting/lib/python3.8/site-packages/keras/engine/training.py\", line 1546, in step_function  **\n        outputs = model.distribute_strategy.run(run_step, args=(data,))\n    File \"/home/poliveira/Electricity-Forecasting/lib/python3.8/site-packages/keras/engine/training.py\", line 1535, in run_step  **\n        outputs = model.test_step(data)\n    File \"/home/poliveira/Electricity-Forecasting/lib/python3.8/site-packages/keras/engine/training.py\", line 1499, in test_step\n        y_pred = self(x, training=False)\n    File \"/home/poliveira/Electricity-Forecasting/lib/python3.8/site-packages/keras/utils/traceback_utils.py\", line 67, in error_handler\n        raise e.with_traceback(filtered_tb) from None\n    File \"/home/poliveira/Electricity-Forecasting/lib/python3.8/site-packages/keras/engine/input_spec.py\", line 264, in assert_input_compatibility\n        raise ValueError(f'Input {input_index} of layer \"{layer_name}\" is '\n\n    ValueError: Input 0 of layer \"model\" is incompatible with the layer: expected shape=(None, 15, 285), found shape=(None, 15, 19)\n",
     "output_type": "error",
     "traceback": [
      "\u001b[0;31m---------------------------------------------------------------------------\u001b[0m",
      "\u001b[0;31mValueError\u001b[0m                                Traceback (most recent call last)",
      "\u001b[1;32m/home/poliveira/Electricity-Forecasting/Autokeras Test.ipynb Cell 4'\u001b[0m in \u001b[0;36m<cell line: 1>\u001b[0;34m()\u001b[0m\n\u001b[1;32m     <a href='vscode-notebook-cell://ssh-remote%2B192.168.85.4/home/poliveira/Electricity-Forecasting/Autokeras%20Test.ipynb#ch0000003vscode-remote?line=36'>37</a>\u001b[0m model\u001b[39m.\u001b[39msave(\u001b[39mf\u001b[39m\u001b[39m'\u001b[39m\u001b[39mmodels/\u001b[39m\u001b[39m{\u001b[39;00mk\u001b[39m}\u001b[39;00m\u001b[39m_autokeras.h5\u001b[39m\u001b[39m'\u001b[39m)\n\u001b[1;32m     <a href='vscode-notebook-cell://ssh-remote%2B192.168.85.4/home/poliveira/Electricity-Forecasting/Autokeras%20Test.ipynb#ch0000003vscode-remote?line=37'>38</a>\u001b[0m \u001b[39m# Evaluate the best model with testing data.\u001b[39;00m\n\u001b[0;32m---> <a href='vscode-notebook-cell://ssh-remote%2B192.168.85.4/home/poliveira/Electricity-Forecasting/Autokeras%20Test.ipynb#ch0000003vscode-remote?line=38'>39</a>\u001b[0m \u001b[39mprint\u001b[39m(model\u001b[39m.\u001b[39;49mevaluate(data_x_test, data_y_test)[\u001b[39m0\u001b[39m])\n\u001b[1;32m     <a href='vscode-notebook-cell://ssh-remote%2B192.168.85.4/home/poliveira/Electricity-Forecasting/Autokeras%20Test.ipynb#ch0000003vscode-remote?line=39'>40</a>\u001b[0m \u001b[39mbreak\u001b[39;00m\n",
      "File \u001b[0;32m~/Electricity-Forecasting/lib/python3.8/site-packages/keras/utils/traceback_utils.py:67\u001b[0m, in \u001b[0;36mfilter_traceback.<locals>.error_handler\u001b[0;34m(*args, **kwargs)\u001b[0m\n\u001b[1;32m     <a href='file:///home/poliveira/Electricity-Forecasting/lib/python3.8/site-packages/keras/utils/traceback_utils.py?line=64'>65</a>\u001b[0m \u001b[39mexcept\u001b[39;00m \u001b[39mException\u001b[39;00m \u001b[39mas\u001b[39;00m e:  \u001b[39m# pylint: disable=broad-except\u001b[39;00m\n\u001b[1;32m     <a href='file:///home/poliveira/Electricity-Forecasting/lib/python3.8/site-packages/keras/utils/traceback_utils.py?line=65'>66</a>\u001b[0m   filtered_tb \u001b[39m=\u001b[39m _process_traceback_frames(e\u001b[39m.\u001b[39m__traceback__)\n\u001b[0;32m---> <a href='file:///home/poliveira/Electricity-Forecasting/lib/python3.8/site-packages/keras/utils/traceback_utils.py?line=66'>67</a>\u001b[0m   \u001b[39mraise\u001b[39;00m e\u001b[39m.\u001b[39mwith_traceback(filtered_tb) \u001b[39mfrom\u001b[39;00m \u001b[39mNone\u001b[39m\n\u001b[1;32m     <a href='file:///home/poliveira/Electricity-Forecasting/lib/python3.8/site-packages/keras/utils/traceback_utils.py?line=67'>68</a>\u001b[0m \u001b[39mfinally\u001b[39;00m:\n\u001b[1;32m     <a href='file:///home/poliveira/Electricity-Forecasting/lib/python3.8/site-packages/keras/utils/traceback_utils.py?line=68'>69</a>\u001b[0m   \u001b[39mdel\u001b[39;00m filtered_tb\n",
      "File \u001b[0;32m/tmp/__autograph_generated_fileofnmvg6_.py:15\u001b[0m, in \u001b[0;36mouter_factory.<locals>.inner_factory.<locals>.tf__test_function\u001b[0;34m(iterator)\u001b[0m\n\u001b[1;32m     <a href='file:///tmp/__autograph_generated_fileofnmvg6_.py?line=12'>13</a>\u001b[0m \u001b[39mtry\u001b[39;00m:\n\u001b[1;32m     <a href='file:///tmp/__autograph_generated_fileofnmvg6_.py?line=13'>14</a>\u001b[0m     do_return \u001b[39m=\u001b[39m \u001b[39mTrue\u001b[39;00m\n\u001b[0;32m---> <a href='file:///tmp/__autograph_generated_fileofnmvg6_.py?line=14'>15</a>\u001b[0m     retval_ \u001b[39m=\u001b[39m ag__\u001b[39m.\u001b[39mconverted_call(ag__\u001b[39m.\u001b[39mld(step_function), (ag__\u001b[39m.\u001b[39mld(\u001b[39mself\u001b[39m), ag__\u001b[39m.\u001b[39mld(iterator)), \u001b[39mNone\u001b[39;00m, fscope)\n\u001b[1;32m     <a href='file:///tmp/__autograph_generated_fileofnmvg6_.py?line=15'>16</a>\u001b[0m \u001b[39mexcept\u001b[39;00m:\n\u001b[1;32m     <a href='file:///tmp/__autograph_generated_fileofnmvg6_.py?line=16'>17</a>\u001b[0m     do_return \u001b[39m=\u001b[39m \u001b[39mFalse\u001b[39;00m\n",
      "\u001b[0;31mValueError\u001b[0m: in user code:\n\n    File \"/home/poliveira/Electricity-Forecasting/lib/python3.8/site-packages/keras/engine/training.py\", line 1557, in test_function  *\n        return step_function(self, iterator)\n    File \"/home/poliveira/Electricity-Forecasting/lib/python3.8/site-packages/keras/engine/training.py\", line 1546, in step_function  **\n        outputs = model.distribute_strategy.run(run_step, args=(data,))\n    File \"/home/poliveira/Electricity-Forecasting/lib/python3.8/site-packages/keras/engine/training.py\", line 1535, in run_step  **\n        outputs = model.test_step(data)\n    File \"/home/poliveira/Electricity-Forecasting/lib/python3.8/site-packages/keras/engine/training.py\", line 1499, in test_step\n        y_pred = self(x, training=False)\n    File \"/home/poliveira/Electricity-Forecasting/lib/python3.8/site-packages/keras/utils/traceback_utils.py\", line 67, in error_handler\n        raise e.with_traceback(filtered_tb) from None\n    File \"/home/poliveira/Electricity-Forecasting/lib/python3.8/site-packages/keras/engine/input_spec.py\", line 264, in assert_input_compatibility\n        raise ValueError(f'Input {input_index} of layer \"{layer_name}\" is '\n\n    ValueError: Input 0 of layer \"model\" is incompatible with the layer: expected shape=(None, 15, 285), found shape=(None, 15, 19)\n"
     ]
    }
   ],
   "source": [
    "for k in CORR_GROUP:\n",
    "    data = create_supervised_dataset(scaled_df, k, CORR_GROUP[k], n_in=lookback, n_out=1)\n",
    "    data_train = data[:train_split]\n",
    "    data_cv = data[train_split:val_split]\n",
    "    \n",
    "    data_x_train, data_y_train = data_train[:, :-1], data_train[:, -1]\n",
    "    print(data_x_train.shape, data_y_train.shape)\n",
    "\n",
    "    data_x_val, data_y_val = data_cv[:, :-1], data_cv[:, -1]\n",
    "    print(data_x_val.shape, data_y_val.shape)\n",
    "    \n",
    "    data_test = data[val_split:int(1*scaled_df.shape[0])]\n",
    "    data_x_test, data_y_test = data_test[:, :-1], data_test[:, -1]\n",
    "    data_x_test = data_x_test.reshape(-1, lookback, len(CORR_GROUP[k]))\n",
    "\n",
    "    clf = ak.TimeseriesForecaster(\n",
    "        lookback=lookback,\n",
    "        predict_from=predict_from,\n",
    "        predict_until=predict_until,\n",
    "        max_trials=3,\n",
    "        project_name=f'autokeras_ml/{k}_forecaster',\n",
    "        objective=\"mean_squared_error\",\n",
    "        overwrite=True\n",
    "    )\n",
    "\n",
    "    # Train the TimeSeriesForecaster with train data\n",
    "    clf.fit(\n",
    "        x=data_x_train,\n",
    "        y=data_y_train,\n",
    "        validation_data=(data_x_val, data_y_val),\n",
    "        epochs=10,\n",
    "        batch_size=64\n",
    "    )\n",
    "\n",
    "    model = clf.export_model()\n",
    "    print(model.summary())\n",
    "    model.save(f'models/{k}_autokeras.h5')\n",
    "    # Evaluate the best model with testing data.\n",
    "    print(model.evaluate(data_x_test, data_y_test)[0])\n",
    "    break\n"
   ]
  },
  {
   "cell_type": "code",
   "execution_count": 11,
   "metadata": {},
   "outputs": [
    {
     "name": "stdout",
     "output_type": "stream",
     "text": [
      "(27687, 19) (27687,)\n",
      "(7911, 19) (7911,)\n"
     ]
    }
   ],
   "source": [
    "k='P_SUM'\n",
    "train_split = int(0.7*scaled_df.shape[0])\n",
    "val_split = int(0.9*scaled_df.shape[0])\n",
    "data_train = scaled_df[:train_split]\n",
    "data_cv = scaled_df[train_split:val_split]\n",
    "data_x = data_train[CORR_GROUP[k]]\n",
    "data_y = data_train[k]\n",
    "\n",
    "data_x_val = data_cv[CORR_GROUP[k]]\n",
    "data_y_val = data_cv[k]\n"
   ]
  },
  {
   "cell_type": "code",
   "execution_count": 9,
   "metadata": {},
   "outputs": [
    {
     "data": {
      "text/plain": [
       "3.4998103905953735"
      ]
     },
     "execution_count": 9,
     "metadata": {},
     "output_type": "execute_result"
    }
   ],
   "source": [
    "27687/7911"
   ]
  }
 ],
 "metadata": {
  "interpreter": {
   "hash": "b658b4db5412e1486a01b705a6b42aa94f48d2718a99a2b9a16c6c56c181c459"
  },
  "kernelspec": {
   "display_name": "Python 3.8.10 ('Electricity-Forecasting': venv)",
   "language": "python",
   "name": "python3"
  },
  "language_info": {
   "codemirror_mode": {
    "name": "ipython",
    "version": 3
   },
   "file_extension": ".py",
   "mimetype": "text/x-python",
   "name": "python",
   "nbconvert_exporter": "python",
   "pygments_lexer": "ipython3",
   "version": "3.8.10"
  },
  "orig_nbformat": 4
 },
 "nbformat": 4,
 "nbformat_minor": 2
}
