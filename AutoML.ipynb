{
 "cells": [
  {
   "cell_type": "code",
   "execution_count": 3,
   "metadata": {},
   "outputs": [],
   "source": [
    "from pprint import pprint\n",
    "\n",
    "import sklearn.datasets\n",
    "import sklearn.metrics\n",
    "\n",
    "import autosklearn.regression"
   ]
  },
  {
   "cell_type": "code",
   "execution_count": 11,
   "metadata": {},
   "outputs": [
    {
     "name": "stdout",
     "output_type": "stream",
     "text": [
      "P_SUM started training\n"
     ]
    },
    {
     "name": "stderr",
     "output_type": "stream",
     "text": [
      "/home/atnoguser/git/Electricity-Forecasting/venv/lib/python3.8/site-packages/autosklearn/metalearning/metalearning/meta_base.py:68: FutureWarning: The frame.append method is deprecated and will be removed from pandas in a future version. Use pandas.concat instead.\n",
      "  self.metafeatures = self.metafeatures.append(metafeatures)\n",
      "/home/atnoguser/git/Electricity-Forecasting/venv/lib/python3.8/site-packages/autosklearn/metalearning/metalearning/meta_base.py:72: FutureWarning: The frame.append method is deprecated and will be removed from pandas in a future version. Use pandas.concat instead.\n",
      "  self.algorithm_runs[metric].append(runs)\n"
     ]
    },
    {
     "name": "stdout",
     "output_type": "stream",
     "text": [
      "          rank  ensemble_weight           type      cost  duration\n",
      "model_id                                                          \n",
      "3            1              1.0  liblinear_svr  0.657495  0.926774\n",
      "U_L1_N started training\n"
     ]
    },
    {
     "name": "stderr",
     "output_type": "stream",
     "text": [
      "/home/atnoguser/git/Electricity-Forecasting/venv/lib/python3.8/site-packages/autosklearn/metalearning/metalearning/meta_base.py:68: FutureWarning: The frame.append method is deprecated and will be removed from pandas in a future version. Use pandas.concat instead.\n",
      "  self.metafeatures = self.metafeatures.append(metafeatures)\n",
      "/home/atnoguser/git/Electricity-Forecasting/venv/lib/python3.8/site-packages/autosklearn/metalearning/metalearning/meta_base.py:72: FutureWarning: The frame.append method is deprecated and will be removed from pandas in a future version. Use pandas.concat instead.\n",
      "  self.algorithm_runs[metric].append(runs)\n"
     ]
    },
    {
     "name": "stdout",
     "output_type": "stream",
     "text": [
      "          rank  ensemble_weight              type      cost   duration\n",
      "model_id                                                              \n",
      "4            1             0.86  gaussian_process  0.027198  28.934567\n",
      "2            2             0.14     random_forest  0.028866  19.150621\n",
      "I_SUM started training\n"
     ]
    },
    {
     "name": "stderr",
     "output_type": "stream",
     "text": [
      "/home/atnoguser/git/Electricity-Forecasting/venv/lib/python3.8/site-packages/autosklearn/metalearning/metalearning/meta_base.py:68: FutureWarning: The frame.append method is deprecated and will be removed from pandas in a future version. Use pandas.concat instead.\n",
      "  self.metafeatures = self.metafeatures.append(metafeatures)\n",
      "/home/atnoguser/git/Electricity-Forecasting/venv/lib/python3.8/site-packages/autosklearn/metalearning/metalearning/meta_base.py:72: FutureWarning: The frame.append method is deprecated and will be removed from pandas in a future version. Use pandas.concat instead.\n",
      "  self.algorithm_runs[metric].append(runs)\n"
     ]
    },
    {
     "name": "stdout",
     "output_type": "stream",
     "text": [
      "          rank  ensemble_weight         type      cost   duration\n",
      "model_id                                                         \n",
      "9            1             0.62  extra_trees  0.554666  17.646607\n",
      "8            2             0.30  extra_trees  0.567574  19.063348\n",
      "7            3             0.08   libsvm_svr  0.725829   1.368031\n",
      "H_TDH_I_L3_N started training\n"
     ]
    },
    {
     "name": "stderr",
     "output_type": "stream",
     "text": [
      "/home/atnoguser/git/Electricity-Forecasting/venv/lib/python3.8/site-packages/autosklearn/metalearning/metalearning/meta_base.py:68: FutureWarning: The frame.append method is deprecated and will be removed from pandas in a future version. Use pandas.concat instead.\n",
      "  self.metafeatures = self.metafeatures.append(metafeatures)\n",
      "/home/atnoguser/git/Electricity-Forecasting/venv/lib/python3.8/site-packages/autosklearn/metalearning/metalearning/meta_base.py:72: FutureWarning: The frame.append method is deprecated and will be removed from pandas in a future version. Use pandas.concat instead.\n",
      "  self.algorithm_runs[metric].append(runs)\n"
     ]
    },
    {
     "name": "stdout",
     "output_type": "stream",
     "text": [
      "          rank  ensemble_weight              type      cost   duration\n",
      "model_id                                                              \n",
      "10           1             0.30       extra_trees  0.453934  15.907858\n",
      "9            2             0.42  gaussian_process  0.455389   9.085477\n",
      "4            3             0.20       extra_trees  0.460930  22.054654\n",
      "3            4             0.08        libsvm_svr  0.541895   1.262165\n",
      "F started training\n"
     ]
    },
    {
     "name": "stderr",
     "output_type": "stream",
     "text": [
      "/home/atnoguser/git/Electricity-Forecasting/venv/lib/python3.8/site-packages/autosklearn/metalearning/metalearning/meta_base.py:68: FutureWarning: The frame.append method is deprecated and will be removed from pandas in a future version. Use pandas.concat instead.\n",
      "  self.metafeatures = self.metafeatures.append(metafeatures)\n",
      "/home/atnoguser/git/Electricity-Forecasting/venv/lib/python3.8/site-packages/autosklearn/metalearning/metalearning/meta_base.py:72: FutureWarning: The frame.append method is deprecated and will be removed from pandas in a future version. Use pandas.concat instead.\n",
      "  self.algorithm_runs[metric].append(runs)\n"
     ]
    },
    {
     "name": "stdout",
     "output_type": "stream",
     "text": [
      "          rank  ensemble_weight           type      cost   duration\n",
      "model_id                                                           \n",
      "8            1             0.64     libsvm_svr  0.198084   1.128885\n",
      "5            2             0.06    extra_trees  0.210478   2.845425\n",
      "7            3             0.18    extra_trees  0.212947  13.357707\n",
      "2            4             0.12  random_forest  0.220794   5.604253\n",
      "ReacEc_L1 started training\n"
     ]
    },
    {
     "name": "stderr",
     "output_type": "stream",
     "text": [
      "/home/atnoguser/git/Electricity-Forecasting/venv/lib/python3.8/site-packages/autosklearn/metalearning/metalearning/meta_base.py:68: FutureWarning: The frame.append method is deprecated and will be removed from pandas in a future version. Use pandas.concat instead.\n",
      "  self.metafeatures = self.metafeatures.append(metafeatures)\n",
      "/home/atnoguser/git/Electricity-Forecasting/venv/lib/python3.8/site-packages/autosklearn/metalearning/metalearning/meta_base.py:72: FutureWarning: The frame.append method is deprecated and will be removed from pandas in a future version. Use pandas.concat instead.\n",
      "  self.algorithm_runs[metric].append(runs)\n"
     ]
    },
    {
     "name": "stdout",
     "output_type": "stream",
     "text": [
      "[WARNING] [2022-05-17 17:37:12,820:Client-EnsembleBuilder] No models better than random - using Dummy loss!Number of models besides current dummy model: 1. Number of dummy models: 1\n",
      "[WARNING] [2022-05-17 17:37:14,090:Client-EnsembleBuilder] No models better than random - using Dummy loss!Number of models besides current dummy model: 2. Number of dummy models: 1\n",
      "[WARNING] [2022-05-17 17:37:16,330:Client-EnsembleBuilder] No models better than random - using Dummy loss!Number of models besides current dummy model: 3. Number of dummy models: 1\n",
      "[WARNING] [2022-05-17 17:37:21,541:Client-EnsembleBuilder] No models better than random - using Dummy loss!Number of models besides current dummy model: 4. Number of dummy models: 1\n",
      "[WARNING] [2022-05-17 17:37:25,206:Client-EnsembleBuilder] No models better than random - using Dummy loss!Number of models besides current dummy model: 5. Number of dummy models: 1\n",
      "[WARNING] [2022-05-17 17:37:26,201:Client-EnsembleBuilder] No models better than random - using Dummy loss!Number of models besides current dummy model: 6. Number of dummy models: 1\n",
      "[WARNING] [2022-05-17 17:37:27,196:Client-EnsembleBuilder] No models better than random - using Dummy loss!Number of models besides current dummy model: 6. Number of dummy models: 1\n",
      "[WARNING] [2022-05-17 17:37:28,098:Client-EnsembleBuilder] No models better than random - using Dummy loss!Number of models besides current dummy model: 6. Number of dummy models: 1\n",
      "[WARNING] [2022-05-17 17:37:29,049:Client-EnsembleBuilder] No models better than random - using Dummy loss!Number of models besides current dummy model: 6. Number of dummy models: 1\n",
      "[WARNING] [2022-05-17 17:37:30,561:Client-EnsembleBuilder] No models better than random - using Dummy loss!Number of models besides current dummy model: 7. Number of dummy models: 1\n",
      "[WARNING] [2022-05-17 17:37:31,461:Client-EnsembleBuilder] No models better than random - using Dummy loss!Number of models besides current dummy model: 7. Number of dummy models: 1\n",
      "[WARNING] [2022-05-17 17:37:32,874:Client-EnsembleBuilder] No models better than random - using Dummy loss!Number of models besides current dummy model: 8. Number of dummy models: 1\n",
      "[WARNING] [2022-05-17 17:37:33,756:Client-EnsembleBuilder] No models better than random - using Dummy loss!Number of models besides current dummy model: 8. Number of dummy models: 1\n",
      "[WARNING] [2022-05-17 17:37:46,583:Client-EnsembleBuilder] No models better than random - using Dummy loss!Number of models besides current dummy model: 9. Number of dummy models: 1\n",
      "[WARNING] [2022-05-17 17:37:47,524:Client-EnsembleBuilder] No models better than random - using Dummy loss!Number of models besides current dummy model: 9. Number of dummy models: 1\n",
      "[WARNING] [2022-05-17 17:37:48,493:Client-EnsembleBuilder] No models better than random - using Dummy loss!Number of models besides current dummy model: 10. Number of dummy models: 1\n",
      "[WARNING] [2022-05-17 17:37:49,420:Client-EnsembleBuilder] No models better than random - using Dummy loss!Number of models besides current dummy model: 11. Number of dummy models: 1\n",
      "[WARNING] [2022-05-17 17:37:50,405:Client-EnsembleBuilder] No models better than random - using Dummy loss!Number of models besides current dummy model: 12. Number of dummy models: 1\n",
      "[WARNING] [2022-05-17 17:37:51,390:Client-EnsembleBuilder] No models better than random - using Dummy loss!Number of models besides current dummy model: 13. Number of dummy models: 1\n",
      "[WARNING] [2022-05-17 17:37:53,521:Client-EnsembleBuilder] No models better than random - using Dummy loss!Number of models besides current dummy model: 14. Number of dummy models: 1\n",
      "[WARNING] [2022-05-17 17:37:54,561:Client-EnsembleBuilder] No models better than random - using Dummy loss!Number of models besides current dummy model: 15. Number of dummy models: 1\n",
      "[WARNING] [2022-05-17 17:37:56,279:Client-EnsembleBuilder] No models better than random - using Dummy loss!Number of models besides current dummy model: 16. Number of dummy models: 1\n",
      "[WARNING] [2022-05-17 17:37:57,526:Client-EnsembleBuilder] No models better than random - using Dummy loss!Number of models besides current dummy model: 17. Number of dummy models: 1\n",
      "[WARNING] [2022-05-17 17:38:01,591:Client-EnsembleBuilder] No models better than random - using Dummy loss!Number of models besides current dummy model: 18. Number of dummy models: 1\n",
      "[WARNING] [2022-05-17 17:38:05,682:Client-EnsembleBuilder] No models better than random - using Dummy loss!Number of models besides current dummy model: 19. Number of dummy models: 1\n",
      "[WARNING] [2022-05-17 17:38:06,884:Client-EnsembleBuilder] No models better than random - using Dummy loss!Number of models besides current dummy model: 20. Number of dummy models: 1\n",
      "[WARNING] [2022-05-17 17:38:12,329:Client-EnsembleBuilder] No models better than random - using Dummy loss!Number of models besides current dummy model: 20. Number of dummy models: 1\n",
      "[WARNING] [2022-05-17 17:38:17,747:Client-EnsembleBuilder] No models better than random - using Dummy loss!Number of models besides current dummy model: 21. Number of dummy models: 1\n",
      "[WARNING] [2022-05-17 17:38:23,035:Client-EnsembleBuilder] No models better than random - using Dummy loss!Number of models besides current dummy model: 21. Number of dummy models: 1\n",
      "[WARNING] [2022-05-17 17:38:28,069:Client-EnsembleBuilder] No models better than random - using Dummy loss!Number of models besides current dummy model: 21. Number of dummy models: 1\n",
      "[WARNING] [2022-05-17 17:38:33,101:Client-EnsembleBuilder] No models better than random - using Dummy loss!Number of models besides current dummy model: 21. Number of dummy models: 1\n",
      "[WARNING] [2022-05-17 17:38:34,327:Client-EnsembleBuilder] No models better than random - using Dummy loss!Number of models besides current dummy model: 22. Number of dummy models: 1\n",
      "[WARNING] [2022-05-17 17:38:35,708:Client-EnsembleBuilder] No models better than random - using Dummy loss!Number of models besides current dummy model: 23. Number of dummy models: 1\n",
      "[WARNING] [2022-05-17 17:38:36,879:Client-EnsembleBuilder] No models better than random - using Dummy loss!Number of models besides current dummy model: 23. Number of dummy models: 1\n",
      "[WARNING] [2022-05-17 17:38:38,022:Client-EnsembleBuilder] No models better than random - using Dummy loss!Number of models besides current dummy model: 24. Number of dummy models: 1\n",
      "[WARNING] [2022-05-17 17:38:43,250:Client-EnsembleBuilder] No models better than random - using Dummy loss!Number of models besides current dummy model: 24. Number of dummy models: 1\n",
      "[WARNING] [2022-05-17 17:38:48,551:Client-EnsembleBuilder] No models better than random - using Dummy loss!Number of models besides current dummy model: 24. Number of dummy models: 1\n",
      "[WARNING] [2022-05-17 17:38:49,672:Client-EnsembleBuilder] No models better than random - using Dummy loss!Number of models besides current dummy model: 25. Number of dummy models: 1\n",
      "[WARNING] [2022-05-17 17:38:51,203:Client-EnsembleBuilder] No models better than random - using Dummy loss!Number of models besides current dummy model: 26. Number of dummy models: 1\n",
      "[WARNING] [2022-05-17 17:38:57,596:Client-EnsembleBuilder] No models better than random - using Dummy loss!Number of models besides current dummy model: 26. Number of dummy models: 1\n",
      "[WARNING] [2022-05-17 17:38:58,689:Client-EnsembleBuilder] No models better than random - using Dummy loss!Number of models besides current dummy model: 27. Number of dummy models: 1\n",
      "C_phi_L3 started training\n"
     ]
    },
    {
     "name": "stderr",
     "output_type": "stream",
     "text": [
      "/home/atnoguser/git/Electricity-Forecasting/venv/lib/python3.8/site-packages/autosklearn/metalearning/metalearning/meta_base.py:68: FutureWarning: The frame.append method is deprecated and will be removed from pandas in a future version. Use pandas.concat instead.\n",
      "  self.metafeatures = self.metafeatures.append(metafeatures)\n",
      "/home/atnoguser/git/Electricity-Forecasting/venv/lib/python3.8/site-packages/autosklearn/metalearning/metalearning/meta_base.py:72: FutureWarning: The frame.append method is deprecated and will be removed from pandas in a future version. Use pandas.concat instead.\n",
      "  self.algorithm_runs[metric].append(runs)\n"
     ]
    },
    {
     "name": "stdout",
     "output_type": "stream",
     "text": [
      "          rank  ensemble_weight              type      cost   duration\n",
      "model_id                                                              \n",
      "10           1             0.42       extra_trees  0.290643  15.917376\n",
      "6            2             0.46  gaussian_process  0.290649  11.851084\n",
      "2            3             0.12     random_forest  0.297337   5.411915\n",
      "ReacEc_L3 started training\n"
     ]
    },
    {
     "name": "stderr",
     "output_type": "stream",
     "text": [
      "Process pynisher function call:\n",
      "Traceback (most recent call last):\n",
      "  File \"/usr/lib/python3.8/multiprocessing/process.py\", line 315, in _bootstrap\n",
      "    self.run()\n",
      "  File \"/usr/lib/python3.8/multiprocessing/process.py\", line 108, in run\n",
      "    self._target(*self._args, **self._kwargs)\n",
      "  File \"/home/atnoguser/git/Electricity-Forecasting/venv/lib/python3.8/site-packages/pynisher/limit_function_call.py\", line 133, in subprocess_func\n",
      "    return_value = ((func(*args, **kwargs), 0))\n",
      "  File \"/home/atnoguser/git/Electricity-Forecasting/venv/lib/python3.8/site-packages/autosklearn/smbo.py\", line 130, in _calculate_metafeatures_encoded\n",
      "    result = calculate_all_metafeatures_encoded_labels(\n",
      "  File \"/home/atnoguser/git/Electricity-Forecasting/venv/lib/python3.8/site-packages/autosklearn/metalearning/metafeatures/metafeatures.py\", line 1039, in calculate_all_metafeatures_encoded_labels\n",
      "    return calculate_all_metafeatures(X, y, categorical, dataset_name,\n",
      "  File \"/home/atnoguser/git/Electricity-Forecasting/venv/lib/python3.8/site-packages/autosklearn/metalearning/metafeatures/metafeatures.py\", line 1091, in calculate_all_metafeatures\n",
      "    X_transformed = DPP.fit_transform(X)\n",
      "  File \"/home/atnoguser/git/Electricity-Forecasting/venv/lib/python3.8/site-packages/sklearn/base.py\", line 699, in fit_transform\n",
      "    return self.fit(X, **fit_params).transform(X)\n",
      "  File \"/home/atnoguser/git/Electricity-Forecasting/venv/lib/python3.8/site-packages/autosklearn/pipeline/components/data_preprocessing/feature_type.py\", line 149, in fit\n",
      "    self.column_transformer.fit(X, y)\n",
      "  File \"/home/atnoguser/git/Electricity-Forecasting/venv/lib/python3.8/site-packages/sklearn/compose/_column_transformer.py\", line 470, in fit\n",
      "    self.fit_transform(X, y=y)\n",
      "  File \"/home/atnoguser/git/Electricity-Forecasting/venv/lib/python3.8/site-packages/sklearn/compose/_column_transformer.py\", line 507, in fit_transform\n",
      "    result = self._fit_transform(X, y, _fit_transform_one)\n",
      "  File \"/home/atnoguser/git/Electricity-Forecasting/venv/lib/python3.8/site-packages/sklearn/compose/_column_transformer.py\", line 434, in _fit_transform\n",
      "    return Parallel(n_jobs=self.n_jobs)(\n",
      "  File \"/home/atnoguser/git/Electricity-Forecasting/venv/lib/python3.8/site-packages/joblib/parallel.py\", line 1043, in __call__\n",
      "    if self.dispatch_one_batch(iterator):\n",
      "  File \"/home/atnoguser/git/Electricity-Forecasting/venv/lib/python3.8/site-packages/joblib/parallel.py\", line 861, in dispatch_one_batch\n",
      "    self._dispatch(tasks)\n",
      "  File \"/home/atnoguser/git/Electricity-Forecasting/venv/lib/python3.8/site-packages/joblib/parallel.py\", line 779, in _dispatch\n",
      "    job = self._backend.apply_async(batch, callback=cb)\n",
      "  File \"/home/atnoguser/git/Electricity-Forecasting/venv/lib/python3.8/site-packages/joblib/_parallel_backends.py\", line 208, in apply_async\n",
      "    result = ImmediateResult(func)\n",
      "  File \"/home/atnoguser/git/Electricity-Forecasting/venv/lib/python3.8/site-packages/joblib/_parallel_backends.py\", line 572, in __init__\n",
      "    self.results = batch()\n",
      "  File \"/home/atnoguser/git/Electricity-Forecasting/venv/lib/python3.8/site-packages/joblib/parallel.py\", line 262, in __call__\n",
      "    return [func(*args, **kwargs)\n",
      "  File \"/home/atnoguser/git/Electricity-Forecasting/venv/lib/python3.8/site-packages/joblib/parallel.py\", line 262, in <listcomp>\n",
      "    return [func(*args, **kwargs)\n",
      "  File \"/home/atnoguser/git/Electricity-Forecasting/venv/lib/python3.8/site-packages/sklearn/utils/fixes.py\", line 222, in __call__\n",
      "    return self.function(*args, **kwargs)\n",
      "  File \"/home/atnoguser/git/Electricity-Forecasting/venv/lib/python3.8/site-packages/sklearn/pipeline.py\", line 754, in _fit_transform_one\n",
      "    res = transformer.fit_transform(X, y, **fit_params)\n",
      "  File \"/home/atnoguser/git/Electricity-Forecasting/venv/lib/python3.8/site-packages/sklearn/pipeline.py\", line 378, in fit_transform\n",
      "    Xt = self._fit(X, y, **fit_params_steps)\n",
      "  File \"/home/atnoguser/git/Electricity-Forecasting/venv/lib/python3.8/site-packages/sklearn/pipeline.py\", line 303, in _fit\n",
      "    X, fitted_transformer = fit_transform_one_cached(\n",
      "  File \"/home/atnoguser/git/Electricity-Forecasting/venv/lib/python3.8/site-packages/joblib/memory.py\", line 349, in __call__\n",
      "    return self.func(*args, **kwargs)\n",
      "  File \"/home/atnoguser/git/Electricity-Forecasting/venv/lib/python3.8/site-packages/sklearn/pipeline.py\", line 754, in _fit_transform_one\n",
      "    res = transformer.fit_transform(X, y, **fit_params)\n",
      "  File \"/home/atnoguser/git/Electricity-Forecasting/venv/lib/python3.8/site-packages/sklearn/base.py\", line 699, in fit_transform\n",
      "    return self.fit(X, **fit_params).transform(X)\n",
      "  File \"/home/atnoguser/git/Electricity-Forecasting/venv/lib/python3.8/site-packages/autosklearn/pipeline/components/data_preprocessing/variance_threshold/variance_threshold.py\", line 27, in fit\n",
      "    self.preprocessor = self.preprocessor.fit(X)\n",
      "  File \"/home/atnoguser/git/Electricity-Forecasting/venv/lib/python3.8/site-packages/sklearn/feature_selection/_variance_threshold.py\", line 93, in fit\n",
      "    raise ValueError(msg.format(self.threshold))\n",
      "ValueError: No feature in X meets the variance threshold 0.00000\n",
      "/home/atnoguser/git/Electricity-Forecasting/venv/lib/python3.8/site-packages/autosklearn/metalearning/metalearning/meta_base.py:68: FutureWarning: The frame.append method is deprecated and will be removed from pandas in a future version. Use pandas.concat instead.\n",
      "  self.metafeatures = self.metafeatures.append(metafeatures)\n",
      "/home/atnoguser/git/Electricity-Forecasting/venv/lib/python3.8/site-packages/autosklearn/metalearning/metalearning/meta_base.py:72: FutureWarning: The frame.append method is deprecated and will be removed from pandas in a future version. Use pandas.concat instead.\n",
      "  self.algorithm_runs[metric].append(runs)\n"
     ]
    },
    {
     "name": "stdout",
     "output_type": "stream",
     "text": [
      "RealE_SUM started training\n"
     ]
    },
    {
     "name": "stderr",
     "output_type": "stream",
     "text": [
      "/home/atnoguser/git/Electricity-Forecasting/venv/lib/python3.8/site-packages/autosklearn/metalearning/metalearning/meta_base.py:68: FutureWarning: The frame.append method is deprecated and will be removed from pandas in a future version. Use pandas.concat instead.\n",
      "  self.metafeatures = self.metafeatures.append(metafeatures)\n",
      "/home/atnoguser/git/Electricity-Forecasting/venv/lib/python3.8/site-packages/autosklearn/metalearning/metalearning/meta_base.py:72: FutureWarning: The frame.append method is deprecated and will be removed from pandas in a future version. Use pandas.concat instead.\n",
      "  self.algorithm_runs[metric].append(runs)\n"
     ]
    },
    {
     "name": "stdout",
     "output_type": "stream",
     "text": [
      "[WARNING] [2022-05-17 17:44:09,745:Client-EnsembleBuilder] No models better than random - using Dummy loss!Number of models besides current dummy model: 1. Number of dummy models: 1\n",
      "[WARNING] [2022-05-17 17:44:40,915:Client-EnsembleBuilder] No models better than random - using Dummy loss!Number of models besides current dummy model: 1. Number of dummy models: 1\n",
      "[WARNING] [2022-05-17 17:44:50,071:Client-EnsembleBuilder] No models better than random - using Dummy loss!Number of models besides current dummy model: 1. Number of dummy models: 1\n",
      "H_TDH_U_L2_N started training\n"
     ]
    },
    {
     "name": "stderr",
     "output_type": "stream",
     "text": [
      "/home/atnoguser/git/Electricity-Forecasting/venv/lib/python3.8/site-packages/autosklearn/metalearning/metalearning/meta_base.py:68: FutureWarning: The frame.append method is deprecated and will be removed from pandas in a future version. Use pandas.concat instead.\n",
      "  self.metafeatures = self.metafeatures.append(metafeatures)\n",
      "/home/atnoguser/git/Electricity-Forecasting/venv/lib/python3.8/site-packages/autosklearn/metalearning/metalearning/meta_base.py:72: FutureWarning: The frame.append method is deprecated and will be removed from pandas in a future version. Use pandas.concat instead.\n",
      "  self.algorithm_runs[metric].append(runs)\n"
     ]
    },
    {
     "name": "stdout",
     "output_type": "stream",
     "text": [
      "          rank  ensemble_weight              type      cost   duration\n",
      "model_id                                                              \n",
      "2            1             0.98     random_forest  0.386889  12.748735\n",
      "4            2             0.02  gaussian_process  0.604967  28.405547\n",
      "[12768.193808186099, 0.3114079407964142, 0.08918601215820778, 5.164378385917369, 0.009946426028423072, 1, 0.0054509177445871875, 1, 1, 0.32408608432078434]\n"
     ]
    }
   ],
   "source": [
    "from pprint import pprint\n",
    "\n",
    "import sklearn.metrics\n",
    "\n",
    "import autosklearn.regression\n",
    "from settings import INPUT_FILE, CORR_GROUP, OUTPUT_FILE\n",
    "import pandas as pd\n",
    "import numpy as np\n",
    "from sklearn.preprocessing import MinMaxScaler\n",
    "import logging\n",
    "\n",
    "logging.basicConfig(format='%(asctime)s %(message)s', filename='automl.log', level=logging.DEBUG)\n",
    "logging.info('Started training')\n",
    "\n",
    "def unique_cols(df):\n",
    "    a = df.to_numpy() # df.values (pandas<0.24)\n",
    "    return (a[0] == a).all(0)\n",
    "\n",
    "\n",
    "def create_supervised_dataset(df, target, feats, n_in=1, n_out=1):\n",
    "    cols, names = list(), list()\n",
    "    n_vars = len(feats)\n",
    "    # input sequence (t-n, ... t-1)\n",
    "    for i in range(n_in, 0, -1):\n",
    "        cols.append(df[feats].shift(i))\n",
    "        names += [('var%d(t-%d)' % (j+1, i)) for j in range(n_vars)]\n",
    "    # forecast sequence (t, t+1, ... t+n)\n",
    "    for i in range(0, n_out):\n",
    "        cols.append(df[target].shift(-i))\n",
    "        if i == 0:\n",
    "            names += [('var%d(t)' % (j+1)) for j in range(1)]\n",
    "        else:\n",
    "            names += [('var%d(t+%d)' % (j+1, i)) for j in range(1)]\n",
    "    # put it all together\n",
    "    agg = pd.concat(cols, axis=1)\n",
    "    agg.columns = names\n",
    "    agg.dropna(inplace=True)\n",
    "    return agg.values\n",
    "\n",
    "if __name__ == '__main__':\n",
    "    df = pd.read_csv(INPUT_FILE, index_col='ts')\n",
    "    #df = df.drop('Unnamed: 0', 1)\n",
    "    df.index = pd.to_datetime(df.index)\n",
    "\n",
    "    df_2 = df.loc[:,np.invert(unique_cols(df))]\n",
    "    # Average window\n",
    "    # df_2 = df.groupby(np.arange(len(df))//60).mean()\n",
    "\n",
    "    scaled_df = df_2\n",
    "    results = []\n",
    "    for k in CORR_GROUP:\n",
    "        print(k + \" started training\")\n",
    "        values = create_supervised_dataset(scaled_df, k, CORR_GROUP[k], n_in=15, n_out=1)\n",
    "        len_values = values.shape[0]\n",
    "        # split into train and test sets \n",
    "        n_train_seconds = int(0.07*len_values) #70% dos valores\n",
    "        n_cv_seconds =  int(0.1*len_values) #20% dos valores\n",
    "        train = values[:n_train_seconds, :]\n",
    "        cv = values[n_train_seconds:n_cv_seconds, :]\n",
    "\n",
    "        # split into input and outputs\n",
    "        train_X, train_y = train[:, :-1], train[:, -1:]\n",
    "        test_X, test_y = cv[:, :-1], cv[:, -1:]\n",
    "        automl = autosklearn.regression.AutoSklearnRegressor(\n",
    "            time_left_for_this_task=120,\n",
    "            per_run_time_limit=30,\n",
    "            tmp_folder='./tmp/autosklearn_regression_'+k+'_tmp_3',\n",
    "        )\n",
    "        automl.fit(train_X, train_y, dataset_name=k)\n",
    "        test_predictions = automl.predict(test_X)\n",
    "        try:\n",
    "            print(automl.leaderboard())\n",
    "\n",
    "            results.append((np.sqrt(np.mean(np.square((y_true - y_pred) / y_true)))) * 100)\n",
    "        except:\n",
    "            results.append(1)\n",
    "    print(results)"
   ]
  },
  {
   "cell_type": "code",
   "execution_count": 1,
   "metadata": {},
   "outputs": [],
   "source": [
    "from pprint import pprint\n",
    "\n",
    "import sklearn.metrics\n",
    "\n",
    "import autosklearn.regression\n",
    "from settings import INPUT_FILE, CORR_GROUP, OUTPUT_FILE\n",
    "import pandas as pd\n",
    "import numpy as np\n",
    "from sklearn.preprocessing import MinMaxScaler\n",
    "import logging"
   ]
  },
  {
   "cell_type": "code",
   "execution_count": null,
   "metadata": {},
   "outputs": [],
   "source": [
    "def unique_cols(df):\n",
    "    a = df.to_numpy() # df.values (pandas<0.24)\n",
    "    return (a[0] == a).all(0)\n",
    "\n",
    "\n",
    "def create_supervised_dataset(df, target, feats, n_in=1, n_out=1):\n",
    "    cols, names = list(), list()\n",
    "    n_vars = len(feats)\n",
    "    # input sequence (t-n, ... t-1)\n",
    "    for i in range(n_in, 0, -1):\n",
    "        cols.append(df[feats].shift(i))\n",
    "        names += [('var%d(t-%d)' % (j+1, i)) for j in range(n_vars)]\n",
    "    # forecast sequence (t, t+1, ... t+n)\n",
    "    for i in range(0, n_out):\n",
    "        cols.append(df[target].shift(-i))\n",
    "        if i == 0:\n",
    "            names += [('var%d(t)' % (j+1)) for j in range(1)]\n",
    "        else:\n",
    "            names += [('var%d(t+%d)' % (j+1, i)) for j in range(1)]\n",
    "    # put it all together\n",
    "    agg = pd.concat(cols, axis=1)\n",
    "    agg.columns = names\n",
    "    agg.dropna(inplace=True)\n",
    "    return agg.values\n"
   ]
  },
  {
   "cell_type": "code",
   "execution_count": 9,
   "metadata": {},
   "outputs": [
    {
     "data": {
      "text/plain": [
       "ts\n",
       "2022-04-13 16:04:00    0.99989\n",
       "2022-04-13 16:05:00    0.99989\n",
       "2022-04-13 16:06:00    0.99989\n",
       "2022-04-13 16:07:00    0.99989\n",
       "2022-04-13 16:08:00    0.99989\n",
       "                        ...   \n",
       "2022-04-14 08:42:00    1.00000\n",
       "2022-04-14 08:43:00    1.00000\n",
       "2022-04-14 08:44:00    1.00000\n",
       "2022-04-14 08:45:00    1.00000\n",
       "2022-04-14 08:46:00    1.00000\n",
       "Name: RealEc_L1, Length: 1000, dtype: float64"
      ]
     },
     "execution_count": 9,
     "metadata": {},
     "output_type": "execute_result"
    }
   ],
   "source": [
    "df = pd.read_csv(INPUT_FILE, index_col='ts')\n",
    "#df = df.drop('Unnamed: 0', 1)\n",
    "df.index = pd.to_datetime(df.index)\n",
    "\n",
    "df_2 = df.loc[:,np.invert(unique_cols(df))]\n",
    "# Average window\n",
    "# df_2 = df.groupby(np.arange(len(df))//60).mean()\n",
    "\n",
    "scaler = MinMaxScaler()\n",
    "d = scaler.fit_transform(df_2)\n",
    "scaled_df = pd.DataFrame(d, columns=df_2.columns, index=df_2.index)\n",
    "scaled_df['RealEc_L1'].tail(1000)"
   ]
  },
  {
   "cell_type": "code",
   "execution_count": 4,
   "metadata": {},
   "outputs": [
    {
     "name": "stdout",
     "output_type": "stream",
     "text": [
      "ReacEc_L1 started training\n",
      "[[1.]\n",
      " [1.]\n",
      " [1.]\n",
      " ...\n",
      " [1.]\n",
      " [1.]\n",
      " [1.]]\n"
     ]
    },
    {
     "ename": "ValueError",
     "evalue": "AutoMLRegressor does not support task binary",
     "output_type": "error",
     "traceback": [
      "\u001b[0;31m---------------------------------------------------------------------------\u001b[0m",
      "\u001b[0;31mValueError\u001b[0m                                Traceback (most recent call last)",
      "\u001b[1;32m/home/atnoguser/git/Electricity-Forecasting/AutoML.ipynb Cell 5'\u001b[0m in \u001b[0;36m<cell line: 38>\u001b[0;34m()\u001b[0m\n\u001b[1;32m     <a href='vscode-notebook-cell://ssh-remote%2B10.0.12.70/home/atnoguser/git/Electricity-Forecasting/AutoML.ipynb#ch0000012vscode-remote?line=30'>31</a>\u001b[0m \u001b[39mprint\u001b[39m(train_y)\n\u001b[1;32m     <a href='vscode-notebook-cell://ssh-remote%2B10.0.12.70/home/atnoguser/git/Electricity-Forecasting/AutoML.ipynb#ch0000012vscode-remote?line=32'>33</a>\u001b[0m automl \u001b[39m=\u001b[39m autosklearn\u001b[39m.\u001b[39mregression\u001b[39m.\u001b[39mAutoSklearnRegressor(\n\u001b[1;32m     <a href='vscode-notebook-cell://ssh-remote%2B10.0.12.70/home/atnoguser/git/Electricity-Forecasting/AutoML.ipynb#ch0000012vscode-remote?line=33'>34</a>\u001b[0m     time_left_for_this_task\u001b[39m=\u001b[39m\u001b[39m120\u001b[39m,\n\u001b[1;32m     <a href='vscode-notebook-cell://ssh-remote%2B10.0.12.70/home/atnoguser/git/Electricity-Forecasting/AutoML.ipynb#ch0000012vscode-remote?line=34'>35</a>\u001b[0m     per_run_time_limit\u001b[39m=\u001b[39m\u001b[39m30\u001b[39m,\n\u001b[1;32m     <a href='vscode-notebook-cell://ssh-remote%2B10.0.12.70/home/atnoguser/git/Electricity-Forecasting/AutoML.ipynb#ch0000012vscode-remote?line=35'>36</a>\u001b[0m     tmp_folder\u001b[39m=\u001b[39m\u001b[39m'\u001b[39m\u001b[39m./tmp/autosklearn_regression_\u001b[39m\u001b[39m'\u001b[39m\u001b[39m+\u001b[39mk\u001b[39m+\u001b[39m\u001b[39m'\u001b[39m\u001b[39m_tmp_3\u001b[39m\u001b[39m'\u001b[39m,\n\u001b[1;32m     <a href='vscode-notebook-cell://ssh-remote%2B10.0.12.70/home/atnoguser/git/Electricity-Forecasting/AutoML.ipynb#ch0000012vscode-remote?line=36'>37</a>\u001b[0m )\n\u001b[0;32m---> <a href='vscode-notebook-cell://ssh-remote%2B10.0.12.70/home/atnoguser/git/Electricity-Forecasting/AutoML.ipynb#ch0000012vscode-remote?line=37'>38</a>\u001b[0m automl\u001b[39m.\u001b[39;49mfit(train_X, train_y, dataset_name\u001b[39m=\u001b[39;49mk)\n\u001b[1;32m     <a href='vscode-notebook-cell://ssh-remote%2B10.0.12.70/home/atnoguser/git/Electricity-Forecasting/AutoML.ipynb#ch0000012vscode-remote?line=38'>39</a>\u001b[0m test_predictions \u001b[39m=\u001b[39m automl\u001b[39m.\u001b[39mpredict(test_X)\n",
      "File \u001b[0;32m~/git/Electricity-Forecasting/venv/lib/python3.8/site-packages/autosklearn/estimators.py:1191\u001b[0m, in \u001b[0;36mAutoSklearnRegressor.fit\u001b[0;34m(self, X, y, X_test, y_test, feat_type, dataset_name)\u001b[0m\n\u001b[1;32m   <a href='file:///home/atnoguser/git/Electricity-Forecasting/venv/lib/python3.8/site-packages/autosklearn/estimators.py?line=1177'>1178</a>\u001b[0m     \u001b[39mraise\u001b[39;00m \u001b[39mValueError\u001b[39;00m(\u001b[39m\"\u001b[39m\u001b[39mRegression with data of type \u001b[39m\u001b[39m{}\u001b[39;00m\u001b[39m is \u001b[39m\u001b[39m\"\u001b[39m\n\u001b[1;32m   <a href='file:///home/atnoguser/git/Electricity-Forecasting/venv/lib/python3.8/site-packages/autosklearn/estimators.py?line=1178'>1179</a>\u001b[0m                      \u001b[39m\"\u001b[39m\u001b[39mnot supported. Supported types are \u001b[39m\u001b[39m{}\u001b[39;00m\u001b[39m. \u001b[39m\u001b[39m\"\u001b[39m\n\u001b[1;32m   <a href='file:///home/atnoguser/git/Electricity-Forecasting/venv/lib/python3.8/site-packages/autosklearn/estimators.py?line=1179'>1180</a>\u001b[0m                      \u001b[39m\"\u001b[39m\u001b[39mYou can find more information about scikit-learn \u001b[39m\u001b[39m\"\u001b[39m\n\u001b[0;32m   (...)\u001b[0m\n\u001b[1;32m   <a href='file:///home/atnoguser/git/Electricity-Forecasting/venv/lib/python3.8/site-packages/autosklearn/estimators.py?line=1185'>1186</a>\u001b[0m                         )\n\u001b[1;32m   <a href='file:///home/atnoguser/git/Electricity-Forecasting/venv/lib/python3.8/site-packages/autosklearn/estimators.py?line=1186'>1187</a>\u001b[0m                      )\n\u001b[1;32m   <a href='file:///home/atnoguser/git/Electricity-Forecasting/venv/lib/python3.8/site-packages/autosklearn/estimators.py?line=1188'>1189</a>\u001b[0m \u001b[39m# Fit is supposed to be idempotent!\u001b[39;00m\n\u001b[1;32m   <a href='file:///home/atnoguser/git/Electricity-Forecasting/venv/lib/python3.8/site-packages/autosklearn/estimators.py?line=1189'>1190</a>\u001b[0m \u001b[39m# But not if we use share_mode.\u001b[39;00m\n\u001b[0;32m-> <a href='file:///home/atnoguser/git/Electricity-Forecasting/venv/lib/python3.8/site-packages/autosklearn/estimators.py?line=1190'>1191</a>\u001b[0m \u001b[39msuper\u001b[39;49m()\u001b[39m.\u001b[39;49mfit(\n\u001b[1;32m   <a href='file:///home/atnoguser/git/Electricity-Forecasting/venv/lib/python3.8/site-packages/autosklearn/estimators.py?line=1191'>1192</a>\u001b[0m     X\u001b[39m=\u001b[39;49mX,\n\u001b[1;32m   <a href='file:///home/atnoguser/git/Electricity-Forecasting/venv/lib/python3.8/site-packages/autosklearn/estimators.py?line=1192'>1193</a>\u001b[0m     y\u001b[39m=\u001b[39;49my,\n\u001b[1;32m   <a href='file:///home/atnoguser/git/Electricity-Forecasting/venv/lib/python3.8/site-packages/autosklearn/estimators.py?line=1193'>1194</a>\u001b[0m     X_test\u001b[39m=\u001b[39;49mX_test,\n\u001b[1;32m   <a href='file:///home/atnoguser/git/Electricity-Forecasting/venv/lib/python3.8/site-packages/autosklearn/estimators.py?line=1194'>1195</a>\u001b[0m     y_test\u001b[39m=\u001b[39;49my_test,\n\u001b[1;32m   <a href='file:///home/atnoguser/git/Electricity-Forecasting/venv/lib/python3.8/site-packages/autosklearn/estimators.py?line=1195'>1196</a>\u001b[0m     feat_type\u001b[39m=\u001b[39;49mfeat_type,\n\u001b[1;32m   <a href='file:///home/atnoguser/git/Electricity-Forecasting/venv/lib/python3.8/site-packages/autosklearn/estimators.py?line=1196'>1197</a>\u001b[0m     dataset_name\u001b[39m=\u001b[39;49mdataset_name,\n\u001b[1;32m   <a href='file:///home/atnoguser/git/Electricity-Forecasting/venv/lib/python3.8/site-packages/autosklearn/estimators.py?line=1197'>1198</a>\u001b[0m )\n\u001b[1;32m   <a href='file:///home/atnoguser/git/Electricity-Forecasting/venv/lib/python3.8/site-packages/autosklearn/estimators.py?line=1199'>1200</a>\u001b[0m \u001b[39mreturn\u001b[39;00m \u001b[39mself\u001b[39m\n",
      "File \u001b[0;32m~/git/Electricity-Forecasting/venv/lib/python3.8/site-packages/autosklearn/estimators.py:375\u001b[0m, in \u001b[0;36mAutoSklearnEstimator.fit\u001b[0;34m(self, **kwargs)\u001b[0m\n\u001b[1;32m    <a href='file:///home/atnoguser/git/Electricity-Forecasting/venv/lib/python3.8/site-packages/autosklearn/estimators.py?line=372'>373</a>\u001b[0m \u001b[39mif\u001b[39;00m \u001b[39mself\u001b[39m\u001b[39m.\u001b[39mautoml_ \u001b[39mis\u001b[39;00m \u001b[39mNone\u001b[39;00m:\n\u001b[1;32m    <a href='file:///home/atnoguser/git/Electricity-Forecasting/venv/lib/python3.8/site-packages/autosklearn/estimators.py?line=373'>374</a>\u001b[0m     \u001b[39mself\u001b[39m\u001b[39m.\u001b[39mautoml_ \u001b[39m=\u001b[39m \u001b[39mself\u001b[39m\u001b[39m.\u001b[39mbuild_automl()\n\u001b[0;32m--> <a href='file:///home/atnoguser/git/Electricity-Forecasting/venv/lib/python3.8/site-packages/autosklearn/estimators.py?line=374'>375</a>\u001b[0m \u001b[39mself\u001b[39;49m\u001b[39m.\u001b[39;49mautoml_\u001b[39m.\u001b[39;49mfit(load_models\u001b[39m=\u001b[39;49m\u001b[39mself\u001b[39;49m\u001b[39m.\u001b[39;49mload_models, \u001b[39m*\u001b[39;49m\u001b[39m*\u001b[39;49mkwargs)\n\u001b[1;32m    <a href='file:///home/atnoguser/git/Electricity-Forecasting/venv/lib/python3.8/site-packages/autosklearn/estimators.py?line=376'>377</a>\u001b[0m \u001b[39mreturn\u001b[39;00m \u001b[39mself\u001b[39m\n",
      "File \u001b[0;32m~/git/Electricity-Forecasting/venv/lib/python3.8/site-packages/autosklearn/automl.py:2133\u001b[0m, in \u001b[0;36mAutoMLRegressor.fit\u001b[0;34m(self, X, y, X_test, y_test, feat_type, dataset_name, only_return_configuration_space, load_models)\u001b[0m\n\u001b[1;32m   <a href='file:///home/atnoguser/git/Electricity-Forecasting/venv/lib/python3.8/site-packages/autosklearn/automl.py?line=2121'>2122</a>\u001b[0m \u001b[39mdef\u001b[39;00m \u001b[39mfit\u001b[39m(\n\u001b[1;32m   <a href='file:///home/atnoguser/git/Electricity-Forecasting/venv/lib/python3.8/site-packages/autosklearn/automl.py?line=2122'>2123</a>\u001b[0m     \u001b[39mself\u001b[39m,\n\u001b[1;32m   <a href='file:///home/atnoguser/git/Electricity-Forecasting/venv/lib/python3.8/site-packages/autosklearn/automl.py?line=2123'>2124</a>\u001b[0m     X: SUPPORTED_FEAT_TYPES,\n\u001b[0;32m   (...)\u001b[0m\n\u001b[1;32m   <a href='file:///home/atnoguser/git/Electricity-Forecasting/venv/lib/python3.8/site-packages/autosklearn/automl.py?line=2130'>2131</a>\u001b[0m     load_models: \u001b[39mbool\u001b[39m \u001b[39m=\u001b[39m \u001b[39mTrue\u001b[39;00m,\n\u001b[1;32m   <a href='file:///home/atnoguser/git/Electricity-Forecasting/venv/lib/python3.8/site-packages/autosklearn/automl.py?line=2131'>2132</a>\u001b[0m ):\n\u001b[0;32m-> <a href='file:///home/atnoguser/git/Electricity-Forecasting/venv/lib/python3.8/site-packages/autosklearn/automl.py?line=2132'>2133</a>\u001b[0m     \u001b[39mreturn\u001b[39;00m \u001b[39msuper\u001b[39;49m()\u001b[39m.\u001b[39;49mfit(\n\u001b[1;32m   <a href='file:///home/atnoguser/git/Electricity-Forecasting/venv/lib/python3.8/site-packages/autosklearn/automl.py?line=2133'>2134</a>\u001b[0m         X, y,\n\u001b[1;32m   <a href='file:///home/atnoguser/git/Electricity-Forecasting/venv/lib/python3.8/site-packages/autosklearn/automl.py?line=2134'>2135</a>\u001b[0m         X_test\u001b[39m=\u001b[39;49mX_test,\n\u001b[1;32m   <a href='file:///home/atnoguser/git/Electricity-Forecasting/venv/lib/python3.8/site-packages/autosklearn/automl.py?line=2135'>2136</a>\u001b[0m         y_test\u001b[39m=\u001b[39;49my_test,\n\u001b[1;32m   <a href='file:///home/atnoguser/git/Electricity-Forecasting/venv/lib/python3.8/site-packages/autosklearn/automl.py?line=2136'>2137</a>\u001b[0m         feat_type\u001b[39m=\u001b[39;49mfeat_type,\n\u001b[1;32m   <a href='file:///home/atnoguser/git/Electricity-Forecasting/venv/lib/python3.8/site-packages/autosklearn/automl.py?line=2137'>2138</a>\u001b[0m         dataset_name\u001b[39m=\u001b[39;49mdataset_name,\n\u001b[1;32m   <a href='file:///home/atnoguser/git/Electricity-Forecasting/venv/lib/python3.8/site-packages/autosklearn/automl.py?line=2138'>2139</a>\u001b[0m         only_return_configuration_space\u001b[39m=\u001b[39;49monly_return_configuration_space,\n\u001b[1;32m   <a href='file:///home/atnoguser/git/Electricity-Forecasting/venv/lib/python3.8/site-packages/autosklearn/automl.py?line=2139'>2140</a>\u001b[0m         load_models\u001b[39m=\u001b[39;49mload_models,\n\u001b[1;32m   <a href='file:///home/atnoguser/git/Electricity-Forecasting/venv/lib/python3.8/site-packages/autosklearn/automl.py?line=2140'>2141</a>\u001b[0m         is_classification\u001b[39m=\u001b[39;49m\u001b[39mFalse\u001b[39;49;00m,\n\u001b[1;32m   <a href='file:///home/atnoguser/git/Electricity-Forecasting/venv/lib/python3.8/site-packages/autosklearn/automl.py?line=2141'>2142</a>\u001b[0m     )\n",
      "File \u001b[0;32m~/git/Electricity-Forecasting/venv/lib/python3.8/site-packages/autosklearn/automl.py:600\u001b[0m, in \u001b[0;36mAutoML.fit\u001b[0;34m(self, X, y, task, X_test, y_test, feat_type, dataset_name, only_return_configuration_space, load_models, is_classification)\u001b[0m\n\u001b[1;32m    <a href='file:///home/atnoguser/git/Electricity-Forecasting/venv/lib/python3.8/site-packages/autosklearn/automl.py?line=597'>598</a>\u001b[0m     y_task \u001b[39m=\u001b[39m type_of_target(y)\n\u001b[1;32m    <a href='file:///home/atnoguser/git/Electricity-Forecasting/venv/lib/python3.8/site-packages/autosklearn/automl.py?line=598'>599</a>\u001b[0m     \u001b[39mif\u001b[39;00m \u001b[39mnot\u001b[39;00m \u001b[39mself\u001b[39m\u001b[39m.\u001b[39m_supports_task_type(y_task):\n\u001b[0;32m--> <a href='file:///home/atnoguser/git/Electricity-Forecasting/venv/lib/python3.8/site-packages/autosklearn/automl.py?line=599'>600</a>\u001b[0m         \u001b[39mraise\u001b[39;00m \u001b[39mValueError\u001b[39;00m(\u001b[39mf\u001b[39m\u001b[39m\"\u001b[39m\u001b[39m{\u001b[39;00m\u001b[39mself\u001b[39m\u001b[39m.\u001b[39m\u001b[39m__class__\u001b[39m\u001b[39m.\u001b[39m\u001b[39m__name__\u001b[39m\u001b[39m}\u001b[39;00m\u001b[39m does not support\u001b[39m\u001b[39m\"\u001b[39m\n\u001b[1;32m    <a href='file:///home/atnoguser/git/Electricity-Forecasting/venv/lib/python3.8/site-packages/autosklearn/automl.py?line=600'>601</a>\u001b[0m                          \u001b[39mf\u001b[39m\u001b[39m\"\u001b[39m\u001b[39m task \u001b[39m\u001b[39m{\u001b[39;00my_task\u001b[39m}\u001b[39;00m\u001b[39m\"\u001b[39m)\n\u001b[1;32m    <a href='file:///home/atnoguser/git/Electricity-Forecasting/venv/lib/python3.8/site-packages/autosklearn/automl.py?line=601'>602</a>\u001b[0m     \u001b[39mself\u001b[39m\u001b[39m.\u001b[39m_task \u001b[39m=\u001b[39m \u001b[39mself\u001b[39m\u001b[39m.\u001b[39m_task_type_id(y_task)\n\u001b[1;32m    <a href='file:///home/atnoguser/git/Electricity-Forecasting/venv/lib/python3.8/site-packages/autosklearn/automl.py?line=602'>603</a>\u001b[0m \u001b[39melse\u001b[39;00m:\n",
      "\u001b[0;31mValueError\u001b[0m: AutoMLRegressor does not support task binary"
     ]
    }
   ],
   "source": [
    "df = pd.read_csv(INPUT_FILE, index_col='ts')\n",
    "#df = df.drop('Unnamed: 0', 1)\n",
    "df.index = pd.to_datetime(df.index)\n",
    "\n",
    "df_2 = df.loc[:,np.invert(unique_cols(df))]\n",
    "# Average window\n",
    "# df_2 = df.groupby(np.arange(len(df))//60).mean()\n",
    "\n",
    "scaler = MinMaxScaler()\n",
    "d = scaler.fit_transform(df_2)\n",
    "scaled_df = pd.DataFrame(d, columns=df_2.columns, index=df_2.index)\n",
    "results = []\n",
    "\n",
    "k = 'ReacEc_L1'\n",
    "\n",
    "print(k + \" started training\")\n",
    "values = create_supervised_dataset(scaled_df, k, CORR_GROUP[k], n_in=15, n_out=1)\n",
    "len_values = values.shape[0]\n",
    "\n",
    "# split into train and test sets \n",
    "n_train_seconds = int(0.7*len_values) #70% dos valores\n",
    "n_cv_seconds =  int(1*len_values) #20% dos valores\n",
    "train = values[:n_train_seconds, :]\n",
    "cv = values[n_train_seconds:n_cv_seconds, :]\n",
    "\n",
    "# split into input and outputs\n",
    "train_X, train_y = train[:, :-1], train[:, -1:]\n",
    "test_X, test_y = cv[:, :-1], cv[:, -1:]\n",
    "\n",
    "print(train_y)\n",
    "\n",
    "automl = autosklearn.regression.AutoSklearnRegressor(\n",
    "    time_left_for_this_task=120,\n",
    "    per_run_time_limit=30,\n",
    "    tmp_folder='./tmp/autosklearn_regression_'+k+'_tmp_3',\n",
    ")\n",
    "automl.fit(train_X, train_y, dataset_name=k)\n",
    "test_predictions = automl.predict(test_X)"
   ]
  },
  {
   "cell_type": "code",
   "execution_count": 2,
   "metadata": {},
   "outputs": [],
   "source": [
    "def unique_cols(df):\n",
    "    a = df.to_numpy() # df.values (pandas<0.24)\n",
    "    return (a[0] == a).all(0)\n",
    "\n",
    "\n",
    "def create_supervised_dataset(df, target, feats, n_in=1, n_out=1):\n",
    "    cols, names = list(), list()\n",
    "    n_vars = len(feats)\n",
    "    # input sequence (t-n, ... t-1)\n",
    "    for i in range(n_in, 0, -1):\n",
    "        cols.append(df[feats].shift(i))\n",
    "        names += [('var%d(t-%d)' % (j+1, i)) for j in range(n_vars)]\n",
    "    # forecast sequence (t, t+1, ... t+n)\n",
    "    for i in range(0, n_out):\n",
    "        cols.append(df[target].shift(-i))\n",
    "        if i == 0:\n",
    "            names += [('var%d(t)' % (j+1)) for j in range(1)]\n",
    "        else:\n",
    "            names += [('var%d(t+%d)' % (j+1, i)) for j in range(1)]\n",
    "    # put it all together\n",
    "    agg = pd.concat(cols, axis=1)\n",
    "    agg.columns = names\n",
    "    agg.dropna(inplace=True)\n",
    "    return agg.values"
   ]
  },
  {
   "cell_type": "code",
   "execution_count": null,
   "metadata": {},
   "outputs": [],
   "source": []
  },
  {
   "cell_type": "code",
   "execution_count": 15,
   "metadata": {},
   "outputs": [],
   "source": [
    "from settings import INPUT_FILE\n",
    "import pandas as pd\n",
    "import numpy as np\n",
    "from sklearn.preprocessing import MinMaxScaler\n",
    "\n",
    "df = pd.read_csv(INPUT_FILE, index_col='ts')\n",
    "#df = df.drop('Unnamed: 0', 1)\n",
    "df.index = pd.to_datetime(df.index)\n",
    "\n",
    "df_2 = df.loc[:,np.invert(unique_cols(df))]\n",
    "\n",
    "# Average window\n",
    "# df_2 = df.groupby(np.arange(len(df))//60).mean()\n",
    "\n",
    "scaler = MinMaxScaler()\n",
    "d = scaler.fit_transform(df_2)\n",
    "scaled_df = pd.DataFrame(d, columns=df_2.columns, index=df_2.index)"
   ]
  },
  {
   "cell_type": "code",
   "execution_count": 4,
   "metadata": {},
   "outputs": [],
   "source": [
    "from settings import CORR_GROUP\n",
    "\n",
    "for k in CORR_GROUP:\n",
    "    values = create_supervised_dataset(scaled_df, k, CORR_GROUP[k], n_in=15, n_out=1)\n",
    "    len_values = values.shape[0]\n",
    "    # split into train and test sets \n",
    "    n_train_seconds = int(0.7*len_values) #70% dos valores\n",
    "    n_cv_seconds =  int(1*len_values) #20% dos valores\n",
    "    train = values[:n_train_seconds, :]\n",
    "    cv = values[n_train_seconds:n_cv_seconds, :]\n",
    "\n",
    "    # split into input and outputs\n",
    "    train_X, train_y = train[:, :-1], train[:, -1:]\n",
    "    test_X, test_y = cv[:, :-1], cv[:, -1:]\n",
    "    automl = autosklearn.regression.AutoSklearnRegressor(\n",
    "        time_left_for_this_task=120,\n",
    "        per_run_time_limit=30,\n",
    "        tmp_folder='./tmp/autosklearn_regression_example_tmp',\n",
    "    )\n",
    "\n",
    "    automl.fit(train_X, train_y, dataset_name='diabetes')\n",
    "    break\n",
    "\n"
   ]
  },
  {
   "cell_type": "code",
   "execution_count": 5,
   "metadata": {},
   "outputs": [
    {
     "name": "stderr",
     "output_type": "stream",
     "text": [
      "/home/atnoguser/git/Electricity-Forecasting/venv/lib/python3.8/site-packages/autosklearn/metalearning/metalearning/meta_base.py:68: FutureWarning: The frame.append method is deprecated and will be removed from pandas in a future version. Use pandas.concat instead.\n",
      "  self.metafeatures = self.metafeatures.append(metafeatures)\n",
      "/home/atnoguser/git/Electricity-Forecasting/venv/lib/python3.8/site-packages/autosklearn/metalearning/metalearning/meta_base.py:72: FutureWarning: The frame.append method is deprecated and will be removed from pandas in a future version. Use pandas.concat instead.\n",
      "  self.algorithm_runs[metric].append(runs)\n"
     ]
    },
    {
     "data": {
      "text/plain": [
       "AutoSklearnRegressor(per_run_time_limit=30, time_left_for_this_task=120,\n",
       "                     tmp_folder='./tmp/autosklearn_regression_example_tmp')"
      ]
     },
     "execution_count": 5,
     "metadata": {},
     "output_type": "execute_result"
    }
   ],
   "source": [
    "automl = autosklearn.regression.AutoSklearnRegressor(\n",
    "    time_left_for_this_task=120,\n",
    "    per_run_time_limit=30,\n",
    "    tmp_folder='./tmp/autosklearn_regression_example_tmp',\n",
    ")\n",
    "automl.fit(X_train, y_train, dataset_name='diabetes')"
   ]
  },
  {
   "cell_type": "code",
   "execution_count": 6,
   "metadata": {},
   "outputs": [
    {
     "name": "stdout",
     "output_type": "stream",
     "text": [
      "          rank  ensemble_weight               type      cost   duration\n",
      "model_id                                                               \n",
      "25           1             0.46                sgd  0.436679   0.740504\n",
      "6            2             0.32     ard_regression  0.455042   0.839090\n",
      "27           3             0.14     ard_regression  0.462249   0.732829\n",
      "11           4             0.02      random_forest  0.507400  11.670796\n",
      "7            5             0.06  gradient_boosting  0.518673   1.535592\n"
     ]
    }
   ],
   "source": [
    "print(automl.leaderboard())\n"
   ]
  },
  {
   "cell_type": "code",
   "execution_count": 7,
   "metadata": {},
   "outputs": [
    {
     "name": "stdout",
     "output_type": "stream",
     "text": [
      "{   6: {   'cost': 0.4550418898836528,\n",
      "           'data_preprocessor': <autosklearn.pipeline.components.data_preprocessing.DataPreprocessorChoice object at 0x7fdb3f7e7310>,\n",
      "           'ensemble_weight': 0.32,\n",
      "           'feature_preprocessor': <autosklearn.pipeline.components.feature_preprocessing.FeaturePreprocessorChoice object at 0x7fdb3fa7e970>,\n",
      "           'model_id': 6,\n",
      "           'rank': 2,\n",
      "           'regressor': <autosklearn.pipeline.components.regression.RegressorChoice object at 0x7fdb3fa7ecd0>,\n",
      "           'sklearn_regressor': ARDRegression(alpha_1=0.0003701926442639788, alpha_2=2.2118001735899097e-07,\n",
      "              copy_X=False, lambda_1=1.2037591637980971e-06,\n",
      "              lambda_2=4.358378124977852e-09,\n",
      "              threshold_lambda=1136.5286041327277, tol=0.021944240404849075)},\n",
      "    7: {   'cost': 0.5186726734789994,\n",
      "           'data_preprocessor': <autosklearn.pipeline.components.data_preprocessing.DataPreprocessorChoice object at 0x7fdb3f7eb1c0>,\n",
      "           'ensemble_weight': 0.06,\n",
      "           'feature_preprocessor': <autosklearn.pipeline.components.feature_preprocessing.FeaturePreprocessorChoice object at 0x7fdb3f31cc40>,\n",
      "           'model_id': 7,\n",
      "           'rank': 5,\n",
      "           'regressor': <autosklearn.pipeline.components.regression.RegressorChoice object at 0x7fdb3f31cd30>,\n",
      "           'sklearn_regressor': HistGradientBoostingRegressor(l2_regularization=1.8428972335335263e-10,\n",
      "                              learning_rate=0.012607824914758717, max_iter=512,\n",
      "                              max_leaf_nodes=10, min_samples_leaf=8,\n",
      "                              n_iter_no_change=0, random_state=1,\n",
      "                              validation_fraction=None, warm_start=True)},\n",
      "    11: {   'cost': 0.5073997164657239,\n",
      "            'data_preprocessor': <autosklearn.pipeline.components.data_preprocessing.DataPreprocessorChoice object at 0x7fdb3f7e9430>,\n",
      "            'ensemble_weight': 0.02,\n",
      "            'feature_preprocessor': <autosklearn.pipeline.components.feature_preprocessing.FeaturePreprocessorChoice object at 0x7fdb3fa66a00>,\n",
      "            'model_id': 11,\n",
      "            'rank': 4,\n",
      "            'regressor': <autosklearn.pipeline.components.regression.RegressorChoice object at 0x7fdb3fa66730>,\n",
      "            'sklearn_regressor': RandomForestRegressor(bootstrap=False, criterion='mae',\n",
      "                      max_features=0.6277363920171745, min_samples_leaf=6,\n",
      "                      min_samples_split=15, n_estimators=512, n_jobs=1,\n",
      "                      random_state=1, warm_start=True)},\n",
      "    25: {   'cost': 0.43667876507897496,\n",
      "            'data_preprocessor': <autosklearn.pipeline.components.data_preprocessing.DataPreprocessorChoice object at 0x7fdb3f804610>,\n",
      "            'ensemble_weight': 0.46,\n",
      "            'feature_preprocessor': <autosklearn.pipeline.components.feature_preprocessing.FeaturePreprocessorChoice object at 0x7fdb3f7efca0>,\n",
      "            'model_id': 25,\n",
      "            'rank': 1,\n",
      "            'regressor': <autosklearn.pipeline.components.regression.RegressorChoice object at 0x7fdb3f7efeb0>,\n",
      "            'sklearn_regressor': SGDRegressor(alpha=0.0006517033225329654, epsilon=0.012150149892783745,\n",
      "             eta0=0.016444224834275295, l1_ratio=1.7462342366289323e-09,\n",
      "             loss='epsilon_insensitive', max_iter=16, penalty='elasticnet',\n",
      "             power_t=0.21521743568582094, random_state=1,\n",
      "             tol=0.002431731981071206, warm_start=True)},\n",
      "    27: {   'cost': 0.4622486119001967,\n",
      "            'data_preprocessor': <autosklearn.pipeline.components.data_preprocessing.DataPreprocessorChoice object at 0x7fdb3f7ef790>,\n",
      "            'ensemble_weight': 0.14,\n",
      "            'feature_preprocessor': <autosklearn.pipeline.components.feature_preprocessing.FeaturePreprocessorChoice object at 0x7fdb3f7f7a00>,\n",
      "            'model_id': 27,\n",
      "            'rank': 3,\n",
      "            'regressor': <autosklearn.pipeline.components.regression.RegressorChoice object at 0x7fdb3f7f7280>,\n",
      "            'sklearn_regressor': ARDRegression(alpha_1=2.7664515192592053e-05, alpha_2=9.504988116581138e-07,\n",
      "              copy_X=False, lambda_1=6.50650698230178e-09,\n",
      "              lambda_2=4.238533890074848e-07,\n",
      "              threshold_lambda=78251.58542976103, tol=0.0007301343236220855)}}\n"
     ]
    }
   ],
   "source": [
    "pprint(automl.show_models(), indent=4)"
   ]
  },
  {
   "cell_type": "code",
   "execution_count": 13,
   "metadata": {},
   "outputs": [
    {
     "name": "stdout",
     "output_type": "stream",
     "text": [
      "Train R2 score: 49.97336721874017\n",
      "Test R2 score: 56.15867945482282\n"
     ]
    }
   ],
   "source": [
    "train_predictions = automl.predict(X_train)\n",
    "print(\"Train R2 score:\", sklearn.metrics.mean_squared_error(y_train, train_predictions, squared=False))\n",
    "test_predictions = automl.predict(X_test)\n",
    "print(\"Test R2 score:\", sklearn.metrics.mean_squared_error(y_test, test_predictions, squared=False))"
   ]
  }
 ],
 "metadata": {
  "interpreter": {
   "hash": "0054cb027a4bb88705dcec745022d9814a563b2da9b0f7771133f2dd6ca10551"
  },
  "kernelspec": {
   "display_name": "Python 3 (ipykernel)",
   "language": "python",
   "name": "python3"
  },
  "language_info": {
   "codemirror_mode": {
    "name": "ipython",
    "version": 3
   },
   "file_extension": ".py",
   "mimetype": "text/x-python",
   "name": "python",
   "nbconvert_exporter": "python",
   "pygments_lexer": "ipython3",
   "version": "3.9.5"
  }
 },
 "nbformat": 4,
 "nbformat_minor": 4
}
