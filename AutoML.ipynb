{
 "cells": [
  {
   "cell_type": "code",
   "execution_count": 3,
   "metadata": {},
   "outputs": [],
   "source": [
    "from pprint import pprint\n",
    "\n",
    "import sklearn.datasets\n",
    "import sklearn.metrics\n",
    "\n",
    "import autosklearn.regression"
   ]
  },
  {
   "cell_type": "code",
   "execution_count": 14,
   "metadata": {},
   "outputs": [],
   "source": [
    "def unique_cols(df):\n",
    "    a = df.to_numpy() # df.values (pandas<0.24)\n",
    "    return (a[0] == a).all(0)\n",
    "\n",
    "\n",
    "def create_supervised_dataset(df, target, feats, n_in=1, n_out=1):\n",
    "    cols, names = list(), list()\n",
    "    n_vars = len(feats)\n",
    "    # input sequence (t-n, ... t-1)\n",
    "    for i in range(n_in, 0, -1):\n",
    "        cols.append(df[feats].shift(i))\n",
    "        names += [('var%d(t-%d)' % (j+1, i)) for j in range(n_vars)]\n",
    "    # forecast sequence (t, t+1, ... t+n)\n",
    "    for i in range(0, n_out):\n",
    "        cols.append(df[target].shift(-i))\n",
    "        if i == 0:\n",
    "            names += [('var%d(t)' % (j+1)) for j in range(1)]\n",
    "        else:\n",
    "            names += [('var%d(t+%d)' % (j+1, i)) for j in range(1)]\n",
    "    # put it all together\n",
    "    agg = pd.concat(cols, axis=1)\n",
    "    agg.columns = names\n",
    "    agg.dropna(inplace=True)\n",
    "    return agg.values"
   ]
  },
  {
   "cell_type": "code",
   "execution_count": 15,
   "metadata": {},
   "outputs": [],
   "source": [
    "from settings import INPUT_FILE\n",
    "import pandas as pd\n",
    "import numpy as np\n",
    "from sklearn.preprocessing import MinMaxScaler\n",
    "\n",
    "df = pd.read_csv(INPUT_FILE, index_col='ts')\n",
    "#df = df.drop('Unnamed: 0', 1)\n",
    "df.index = pd.to_datetime(df.index)\n",
    "\n",
    "df_2 = df.loc[:,np.invert(unique_cols(df))]\n",
    "\n",
    "# Average window\n",
    "# df_2 = df.groupby(np.arange(len(df))//60).mean()\n",
    "\n",
    "scaler = MinMaxScaler()\n",
    "d = scaler.fit_transform(df_2)\n",
    "scaled_df = pd.DataFrame(d, columns=df_2.columns, index=df_2.index)"
   ]
  },
  {
   "cell_type": "code",
   "execution_count": 4,
   "metadata": {},
   "outputs": [],
   "source": [
    "from settings import CORR_GROUP\n",
    "\n",
    "for k in CORR_GROUP:\n",
    "    values = create_supervised_dataset(scaled_df, k, CORR_GROUP[k], n_in=15, n_out=1)\n",
    "    len_values = values.shape[0]\n",
    "    # split into train and test sets \n",
    "    n_train_seconds = int(0.7*len_values) #70% dos valores\n",
    "    n_cv_seconds =  int(1*len_values) #20% dos valores\n",
    "    train = values[:n_train_seconds, :]\n",
    "    cv = values[n_train_seconds:n_cv_seconds, :]\n",
    "\n",
    "    # split into input and outputs\n",
    "    train_X, train_y = train[:, :-1], train[:, -1:]\n",
    "    test_X, test_y = cv[:, :-1], cv[:, -1:]\n",
    "    automl = autosklearn.regression.AutoSklearnRegressor(\n",
    "        time_left_for_this_task=120,\n",
    "        per_run_time_limit=30,\n",
    "        tmp_folder='./tmp/autosklearn_regression_example_tmp',\n",
    "    )\n",
    "    automl.fit(train_X, train_y, dataset_name='diabetes')\n",
    "    break\n",
    "\n"
   ]
  },
  {
   "cell_type": "code",
   "execution_count": 5,
   "metadata": {},
   "outputs": [
    {
     "name": "stderr",
     "output_type": "stream",
     "text": [
      "/home/atnoguser/git/Electricity-Forecasting/venv/lib/python3.8/site-packages/autosklearn/metalearning/metalearning/meta_base.py:68: FutureWarning: The frame.append method is deprecated and will be removed from pandas in a future version. Use pandas.concat instead.\n",
      "  self.metafeatures = self.metafeatures.append(metafeatures)\n",
      "/home/atnoguser/git/Electricity-Forecasting/venv/lib/python3.8/site-packages/autosklearn/metalearning/metalearning/meta_base.py:72: FutureWarning: The frame.append method is deprecated and will be removed from pandas in a future version. Use pandas.concat instead.\n",
      "  self.algorithm_runs[metric].append(runs)\n"
     ]
    },
    {
     "data": {
      "text/plain": [
       "AutoSklearnRegressor(per_run_time_limit=30, time_left_for_this_task=120,\n",
       "                     tmp_folder='./tmp/autosklearn_regression_example_tmp')"
      ]
     },
     "execution_count": 5,
     "metadata": {},
     "output_type": "execute_result"
    }
   ],
   "source": [
    "automl = autosklearn.regression.AutoSklearnRegressor(\n",
    "    time_left_for_this_task=120,\n",
    "    per_run_time_limit=30,\n",
    "    tmp_folder='./tmp/autosklearn_regression_example_tmp',\n",
    ")\n",
    "automl.fit(X_train, y_train, dataset_name='diabetes')"
   ]
  },
  {
   "cell_type": "code",
   "execution_count": 6,
   "metadata": {},
   "outputs": [
    {
     "name": "stdout",
     "output_type": "stream",
     "text": [
      "          rank  ensemble_weight               type      cost   duration\n",
      "model_id                                                               \n",
      "25           1             0.46                sgd  0.436679   0.740504\n",
      "6            2             0.32     ard_regression  0.455042   0.839090\n",
      "27           3             0.14     ard_regression  0.462249   0.732829\n",
      "11           4             0.02      random_forest  0.507400  11.670796\n",
      "7            5             0.06  gradient_boosting  0.518673   1.535592\n"
     ]
    }
   ],
   "source": [
    "print(automl.leaderboard())\n"
   ]
  },
  {
   "cell_type": "code",
   "execution_count": 7,
   "metadata": {},
   "outputs": [
    {
     "name": "stdout",
     "output_type": "stream",
     "text": [
      "{   6: {   'cost': 0.4550418898836528,\n",
      "           'data_preprocessor': <autosklearn.pipeline.components.data_preprocessing.DataPreprocessorChoice object at 0x7fdb3f7e7310>,\n",
      "           'ensemble_weight': 0.32,\n",
      "           'feature_preprocessor': <autosklearn.pipeline.components.feature_preprocessing.FeaturePreprocessorChoice object at 0x7fdb3fa7e970>,\n",
      "           'model_id': 6,\n",
      "           'rank': 2,\n",
      "           'regressor': <autosklearn.pipeline.components.regression.RegressorChoice object at 0x7fdb3fa7ecd0>,\n",
      "           'sklearn_regressor': ARDRegression(alpha_1=0.0003701926442639788, alpha_2=2.2118001735899097e-07,\n",
      "              copy_X=False, lambda_1=1.2037591637980971e-06,\n",
      "              lambda_2=4.358378124977852e-09,\n",
      "              threshold_lambda=1136.5286041327277, tol=0.021944240404849075)},\n",
      "    7: {   'cost': 0.5186726734789994,\n",
      "           'data_preprocessor': <autosklearn.pipeline.components.data_preprocessing.DataPreprocessorChoice object at 0x7fdb3f7eb1c0>,\n",
      "           'ensemble_weight': 0.06,\n",
      "           'feature_preprocessor': <autosklearn.pipeline.components.feature_preprocessing.FeaturePreprocessorChoice object at 0x7fdb3f31cc40>,\n",
      "           'model_id': 7,\n",
      "           'rank': 5,\n",
      "           'regressor': <autosklearn.pipeline.components.regression.RegressorChoice object at 0x7fdb3f31cd30>,\n",
      "           'sklearn_regressor': HistGradientBoostingRegressor(l2_regularization=1.8428972335335263e-10,\n",
      "                              learning_rate=0.012607824914758717, max_iter=512,\n",
      "                              max_leaf_nodes=10, min_samples_leaf=8,\n",
      "                              n_iter_no_change=0, random_state=1,\n",
      "                              validation_fraction=None, warm_start=True)},\n",
      "    11: {   'cost': 0.5073997164657239,\n",
      "            'data_preprocessor': <autosklearn.pipeline.components.data_preprocessing.DataPreprocessorChoice object at 0x7fdb3f7e9430>,\n",
      "            'ensemble_weight': 0.02,\n",
      "            'feature_preprocessor': <autosklearn.pipeline.components.feature_preprocessing.FeaturePreprocessorChoice object at 0x7fdb3fa66a00>,\n",
      "            'model_id': 11,\n",
      "            'rank': 4,\n",
      "            'regressor': <autosklearn.pipeline.components.regression.RegressorChoice object at 0x7fdb3fa66730>,\n",
      "            'sklearn_regressor': RandomForestRegressor(bootstrap=False, criterion='mae',\n",
      "                      max_features=0.6277363920171745, min_samples_leaf=6,\n",
      "                      min_samples_split=15, n_estimators=512, n_jobs=1,\n",
      "                      random_state=1, warm_start=True)},\n",
      "    25: {   'cost': 0.43667876507897496,\n",
      "            'data_preprocessor': <autosklearn.pipeline.components.data_preprocessing.DataPreprocessorChoice object at 0x7fdb3f804610>,\n",
      "            'ensemble_weight': 0.46,\n",
      "            'feature_preprocessor': <autosklearn.pipeline.components.feature_preprocessing.FeaturePreprocessorChoice object at 0x7fdb3f7efca0>,\n",
      "            'model_id': 25,\n",
      "            'rank': 1,\n",
      "            'regressor': <autosklearn.pipeline.components.regression.RegressorChoice object at 0x7fdb3f7efeb0>,\n",
      "            'sklearn_regressor': SGDRegressor(alpha=0.0006517033225329654, epsilon=0.012150149892783745,\n",
      "             eta0=0.016444224834275295, l1_ratio=1.7462342366289323e-09,\n",
      "             loss='epsilon_insensitive', max_iter=16, penalty='elasticnet',\n",
      "             power_t=0.21521743568582094, random_state=1,\n",
      "             tol=0.002431731981071206, warm_start=True)},\n",
      "    27: {   'cost': 0.4622486119001967,\n",
      "            'data_preprocessor': <autosklearn.pipeline.components.data_preprocessing.DataPreprocessorChoice object at 0x7fdb3f7ef790>,\n",
      "            'ensemble_weight': 0.14,\n",
      "            'feature_preprocessor': <autosklearn.pipeline.components.feature_preprocessing.FeaturePreprocessorChoice object at 0x7fdb3f7f7a00>,\n",
      "            'model_id': 27,\n",
      "            'rank': 3,\n",
      "            'regressor': <autosklearn.pipeline.components.regression.RegressorChoice object at 0x7fdb3f7f7280>,\n",
      "            'sklearn_regressor': ARDRegression(alpha_1=2.7664515192592053e-05, alpha_2=9.504988116581138e-07,\n",
      "              copy_X=False, lambda_1=6.50650698230178e-09,\n",
      "              lambda_2=4.238533890074848e-07,\n",
      "              threshold_lambda=78251.58542976103, tol=0.0007301343236220855)}}\n"
     ]
    }
   ],
   "source": [
    "pprint(automl.show_models(), indent=4)"
   ]
  },
  {
   "cell_type": "code",
   "execution_count": 13,
   "metadata": {},
   "outputs": [
    {
     "name": "stdout",
     "output_type": "stream",
     "text": [
      "Train R2 score: 49.97336721874017\n",
      "Test R2 score: 56.15867945482282\n"
     ]
    }
   ],
   "source": [
    "train_predictions = automl.predict(X_train)\n",
    "print(\"Train R2 score:\", sklearn.metrics.mean_squared_error(y_train, train_predictions, squared=False))\n",
    "test_predictions = automl.predict(X_test)\n",
    "print(\"Test R2 score:\", sklearn.metrics.mean_squared_error(y_test, test_predictions, squared=False))"
   ]
  }
 ],
 "metadata": {
  "interpreter": {
   "hash": "0054cb027a4bb88705dcec745022d9814a563b2da9b0f7771133f2dd6ca10551"
  },
  "kernelspec": {
   "display_name": "Python 3.8.10 ('venv': venv)",
   "language": "python",
   "name": "python3"
  },
  "language_info": {
   "codemirror_mode": {
    "name": "ipython",
    "version": 3
   },
   "file_extension": ".py",
   "mimetype": "text/x-python",
   "name": "python",
   "nbconvert_exporter": "python",
   "pygments_lexer": "ipython3",
   "version": "3.8.10"
  },
  "orig_nbformat": 4
 },
 "nbformat": 4,
 "nbformat_minor": 2
}
