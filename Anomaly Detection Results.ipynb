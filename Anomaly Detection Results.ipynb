{
 "cells": [
  {
   "cell_type": "code",
   "execution_count": null,
   "metadata": {},
   "outputs": [],
   "source": []
  }
 ],
 "metadata": {
  "kernelspec": {
   "display_name": "Python 3.8.10 ('venv': venv)",
   "language": "python",
   "name": "python3"
  },
  "language_info": {
   "name": "python",
   "version": "3.8.10"
  },
  "orig_nbformat": 4,
  "vscode": {
   "interpreter": {
    "hash": "0054cb027a4bb88705dcec745022d9814a563b2da9b0f7771133f2dd6ca10551"
   }
  }
 },
 "nbformat": 4,
 "nbformat_minor": 2
}
