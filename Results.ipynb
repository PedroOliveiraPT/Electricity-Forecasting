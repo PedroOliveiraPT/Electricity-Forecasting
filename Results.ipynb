{
 "cells": [
  {
   "cell_type": "code",
   "execution_count": 1,
   "id": "906265ff-4c95-4dab-a710-9aa6c862147b",
   "metadata": {},
   "outputs": [],
   "source": [
    "import pandas as pd\n",
    "import numpy as np\n",
    "import matplotlib.pyplot as plt\n",
    "import plotly.express as px # to plot the time series plot\n",
    "from sklearn import metrics # for the evaluation\n",
    "from sklearn.preprocessing import LabelEncoder,MinMaxScaler\n",
    "import tensorflow as tf "
   ]
  },
  {
   "cell_type": "code",
   "execution_count": 2,
   "id": "dc24d9d1-fa9b-4402-a5b0-9030a5b6dc3e",
   "metadata": {},
   "outputs": [],
   "source": [
    "def plot_forecasts(history, test, prediction, title='Prediction', ylabel='value', xlabel='time', ts=(500,20)):\n",
    "    # plot forecasts against actual outcomes\n",
    "    fill_nan = np.empty(len(history))\n",
    "    fill_nan[:] = np.nan\n",
    "    in_nan = np.empty(len(test))\n",
    "    in_nan[:] = np.nan\n",
    "\n",
    "    in_seq = np.concatenate((np.array(history), in_nan))\n",
    "    tar_seq = np.concatenate((fill_nan, np.array(test.copy())))\n",
    "    predicted_seq = np.concatenate((fill_nan, np.array(prediction.copy())))\n",
    "\n",
    "    plt.plot(in_seq)\n",
    "    plt.plot(tar_seq)\n",
    "    plt.plot(predicted_seq)\n",
    "    plt.title(title)\n",
    "    plt.ylabel(ylabel)\n",
    "    plt.xlabel(xlabel)\n",
    "    plt.legend(['input_seq', 'target_seq', 'pre_seq'], loc='upper right')\n",
    "    axes = plt.gca()\n",
    "    fig_predict = plt.figure(figsize=ts)\n",
    "    plt.show()  "
   ]
  },
  {
   "cell_type": "code",
   "execution_count": 7,
   "id": "f4abec2f-8087-43f3-a495-66c73013dcea",
   "metadata": {},
   "outputs": [
    {
     "data": {
      "text/html": [
       "<div>\n",
       "<style scoped>\n",
       "    .dataframe tbody tr th:only-of-type {\n",
       "        vertical-align: middle;\n",
       "    }\n",
       "\n",
       "    .dataframe tbody tr th {\n",
       "        vertical-align: top;\n",
       "    }\n",
       "\n",
       "    .dataframe thead th {\n",
       "        text-align: right;\n",
       "    }\n",
       "</style>\n",
       "<table border=\"1\" class=\"dataframe\">\n",
       "  <thead>\n",
       "    <tr style=\"text-align: right;\">\n",
       "      <th></th>\n",
       "      <th>Loss</th>\n",
       "      <th>Validation Loss</th>\n",
       "    </tr>\n",
       "  </thead>\n",
       "  <tbody>\n",
       "    <tr>\n",
       "      <th>0</th>\n",
       "      <td>0.049834</td>\n",
       "      <td>0.113040</td>\n",
       "    </tr>\n",
       "    <tr>\n",
       "      <th>1</th>\n",
       "      <td>0.043017</td>\n",
       "      <td>0.107923</td>\n",
       "    </tr>\n",
       "    <tr>\n",
       "      <th>2</th>\n",
       "      <td>0.040322</td>\n",
       "      <td>0.096565</td>\n",
       "    </tr>\n",
       "    <tr>\n",
       "      <th>3</th>\n",
       "      <td>0.040997</td>\n",
       "      <td>0.095375</td>\n",
       "    </tr>\n",
       "    <tr>\n",
       "      <th>4</th>\n",
       "      <td>0.038978</td>\n",
       "      <td>0.109654</td>\n",
       "    </tr>\n",
       "  </tbody>\n",
       "</table>\n",
       "</div>"
      ],
      "text/plain": [
       "       Loss  Validation Loss\n",
       "0  0.049834         0.113040\n",
       "1  0.043017         0.107923\n",
       "2  0.040322         0.096565\n",
       "3  0.040997         0.095375\n",
       "4  0.038978         0.109654"
      ]
     },
     "execution_count": 7,
     "metadata": {},
     "output_type": "execute_result"
    }
   ],
   "source": [
    "hist = pd.read_csv(\"results/PCA_LSTM_60secs.csv\", index_col='Unnamed: 0')\n",
    "hist.head()"
   ]
  },
  {
   "cell_type": "code",
   "execution_count": 8,
   "id": "70bb1008-3bbe-42e9-9bb7-6ab9ecf8edeb",
   "metadata": {},
   "outputs": [
    {
     "data": {
      "text/plain": [
       "<AxesSubplot:>"
      ]
     },
     "execution_count": 8,
     "metadata": {},
     "output_type": "execute_result"
    },
    {
     "data": {
      "image/png": "[encoded data removed]",
      "text/plain": [
       "<Figure size 432x288 with 1 Axes>"
      ]
     },
     "metadata": {
      "needs_background": "light"
     },
     "output_type": "display_data"
    }
   ],
   "source": [
    "hist.plot()"
   ]
  },
  {
   "cell_type": "code",
   "execution_count": 10,
   "id": "5d907a1a-e0a8-465c-8624-71e308d9c890",
   "metadata": {},
   "outputs": [],
   "source": [
    "from keras.models import load_model\n",
    "\n",
    "model = load_model(\"models/PCA_LSTM_60secs\")"
   ]
  },
  {
   "cell_type": "code",
   "execution_count": null,
   "id": "ada8110b-231e-4380-ac17-1b6c758b0b5b",
   "metadata": {},
   "outputs": [],
   "source": []
  }
 ],
 "metadata": {
  "kernelspec": {
   "display_name": "Python 3 (ipykernel)",
   "language": "python",
   "name": "python3"
  },
  "language_info": {
   "codemirror_mode": {
    "name": "ipython",
    "version": 3
   },
   "file_extension": ".py",
   "mimetype": "text/x-python",
   "name": "python",
   "nbconvert_exporter": "python",
   "pygments_lexer": "ipython3",
   "version": "3.9.5"
  }
 },
 "nbformat": 4,
 "nbformat_minor": 5
}
